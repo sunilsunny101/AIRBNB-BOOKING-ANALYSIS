{
  "nbformat": 4,
  "nbformat_minor": 0,
  "metadata": {
    "kernelspec": {
      "display_name": "Python 3",
      "language": "python",
      "name": "python3"
    },
    "language_info": {
      "codemirror_mode": {
        "name": "ipython",
        "version": 3
      },
      "file_extension": ".py",
      "mimetype": "text/x-python",
      "name": "python",
      "nbconvert_exporter": "python",
      "pygments_lexer": "ipython3",
      "version": "3.6.6"
    },
    "colab": {
      "name": " Airbnb Bookings Analysis - Capstone Project.ipynb",
      "provenance": [],
      "collapsed_sections": [],
      "include_colab_link": true
    }
  },
  "cells": [
    {
      "cell_type": "markdown",
      "metadata": {
        "id": "view-in-github",
        "colab_type": "text"
      },
      "source": [
        "<a href=\"https://colab.research.google.com/github/sunilsunny101/AIRBNB-BOOKING-ANALYSIS/blob/main/Airbnb_Bookings_Analysis_Capstone_Project.ipynb\" target=\"_parent\"><img src=\"https://colab.research.google.com/assets/colab-badge.svg\" alt=\"Open In Colab\"/></a>"
      ]
    },
    {
      "cell_type": "markdown",
      "metadata": {
        "id": "Y06xIdG26kRF"
      },
      "source": [
        "## <b> Since 2008, guests and hosts have used Airbnb to expand on traveling possibilities and present a more unique, personalized way of experiencing the world. Today, Airbnb became one of a kind service that is used and recognized by the whole world. Data analysis on millions of listings provided through Airbnb is a crucial factor for the company. These millions of listings generate a lot of data - data that can be analyzed and used for security, business decisions, understanding of customers' and providers' (hosts) behavior and performance on the platform, guiding marketing initiatives, implementation of innovative additional services and much more. </b>\n",
        "\n",
        "## <b>This dataset has around 49,000 observations in it with 16 columns and it is a mix between categorical and numeric values. </b>\n",
        "\n",
        "## <b> Explore and analyze the data to discover key understandings (not limited to these) such as : \n",
        "* What can we learn about different hosts and areas?\n",
        "* What can we learn from predictions? (ex: locations, prices, reviews, etc)\n",
        "* Which hosts are the busiest and why?\n",
        "* Is there any noticeable difference of traffic among different areas and what could be the reason for it? </b>"
      ]
    },
    {
      "cell_type": "code",
      "metadata": {
        "id": "dByMsuzT8Tnw"
      },
      "source": [
        "import numpy as np\n",
        "import pandas as pd\n",
        "import seaborn as sns\n",
        "import matplotlib.pyplot as plt\n",
        "%matplotlib inline"
      ],
      "execution_count": 2,
      "outputs": []
    },
    {
      "cell_type": "markdown",
      "source": [
        "Fetching csv file from drive path\n"
      ],
      "metadata": {
        "id": "sNyrLRP_x-HG"
      }
    },
    {
      "cell_type": "code",
      "source": [
        "from google.colab import drive\n",
        "drive.mount('/content/drive')"
      ],
      "metadata": {
        "colab": {
          "base_uri": "https://localhost:8080/"
        },
        "id": "4w4pqP3JUeRS",
        "outputId": "9b037afc-c61a-4dc8-848f-78d9456669fb"
      },
      "execution_count": 3,
      "outputs": [
        {
          "output_type": "stream",
          "name": "stdout",
          "text": [
            "Mounted at /content/drive\n"
          ]
        }
      ]
    },
    {
      "cell_type": "code",
      "source": [
        "df = pd.read_csv('/content/drive/MyDrive/alma better/capstone project EDA/Copy of Airbnb NYC 2019.csv')"
      ],
      "metadata": {
        "id": "gTPPHMWwwwgL"
      },
      "execution_count": 4,
      "outputs": []
    },
    {
      "cell_type": "markdown",
      "source": [
        "Data cleansing.\n",
        "\n",
        "lets get the summary of the dataset "
      ],
      "metadata": {
        "id": "_Mgz-T6fpzQ8"
      }
    },
    {
      "cell_type": "code",
      "source": [
        "df.isnull().sum()"
      ],
      "metadata": {
        "colab": {
          "base_uri": "https://localhost:8080/"
        },
        "id": "uu_0HE77pvRt",
        "outputId": "ee1b2843-2a36-41c2-c5d3-c67c09daed83"
      },
      "execution_count": 5,
      "outputs": [
        {
          "output_type": "execute_result",
          "data": {
            "text/plain": [
              "id                                    0\n",
              "name                                 16\n",
              "host_id                               0\n",
              "host_name                            21\n",
              "neighbourhood_group                   0\n",
              "neighbourhood                         0\n",
              "latitude                              0\n",
              "longitude                             0\n",
              "room_type                             0\n",
              "price                                 0\n",
              "minimum_nights                        0\n",
              "number_of_reviews                     0\n",
              "last_review                       10052\n",
              "reviews_per_month                 10052\n",
              "calculated_host_listings_count        0\n",
              "availability_365                      0\n",
              "dtype: int64"
            ]
          },
          "metadata": {},
          "execution_count": 5
        }
      ]
    },
    {
      "cell_type": "markdown",
      "source": [
        "There are total four columns with null values.\n",
        "\n",
        "name column is having total 16 null values.\n",
        "\n",
        "host_name is having 21 null values.\n",
        "\n",
        "last_review and reviews_per_month are having more null values.\n",
        "\n",
        "we will look at the columns and decide what we can do with them"
      ],
      "metadata": {
        "id": "E1jnl5LRsC9G"
      }
    },
    {
      "cell_type": "markdown",
      "source": [
        "Now, we drop unnecessary columns such as   host_name, last_review."
      ],
      "metadata": {
        "id": "XorCvVwVqZQO"
      }
    },
    {
      "cell_type": "code",
      "source": [
        "df.drop(['host_name','last_review'],axis = 1 ,inplace = True)"
      ],
      "metadata": {
        "id": "XhTadE5iqDKR"
      },
      "execution_count": 6,
      "outputs": []
    },
    {
      "cell_type": "markdown",
      "source": [
        "Replacing all null values in reviews per month column with zero.\n",
        "\n",
        "Replacing all null values in name column with the values in room type column "
      ],
      "metadata": {
        "id": "ATXFARPAqxwz"
      }
    },
    {
      "cell_type": "code",
      "source": [
        "df['reviews_per_month'].replace(np.nan,0,inplace = True)\n",
        "df['name'].fillna(df['room_type'],inplace=True)"
      ],
      "metadata": {
        "id": "q42mwbahqvc8"
      },
      "execution_count": 7,
      "outputs": []
    },
    {
      "cell_type": "code",
      "source": [
        "df.isnull().sum()"
      ],
      "metadata": {
        "colab": {
          "base_uri": "https://localhost:8080/"
        },
        "id": "0D2q209vrcmR",
        "outputId": "8781bab2-b2f8-469f-f0d0-d72b934c2a4f"
      },
      "execution_count": 8,
      "outputs": [
        {
          "output_type": "execute_result",
          "data": {
            "text/plain": [
              "id                                0\n",
              "name                              0\n",
              "host_id                           0\n",
              "neighbourhood_group               0\n",
              "neighbourhood                     0\n",
              "latitude                          0\n",
              "longitude                         0\n",
              "room_type                         0\n",
              "price                             0\n",
              "minimum_nights                    0\n",
              "number_of_reviews                 0\n",
              "reviews_per_month                 0\n",
              "calculated_host_listings_count    0\n",
              "availability_365                  0\n",
              "dtype: int64"
            ]
          },
          "metadata": {},
          "execution_count": 8
        }
      ]
    },
    {
      "cell_type": "code",
      "source": [
        "df.columns"
      ],
      "metadata": {
        "colab": {
          "base_uri": "https://localhost:8080/"
        },
        "id": "wbI1QoiVtRV7",
        "outputId": "89950e20-4291-4ac2-e573-21824a0d79ad"
      },
      "execution_count": 9,
      "outputs": [
        {
          "output_type": "execute_result",
          "data": {
            "text/plain": [
              "Index(['id', 'name', 'host_id', 'neighbourhood_group', 'neighbourhood',\n",
              "       'latitude', 'longitude', 'room_type', 'price', 'minimum_nights',\n",
              "       'number_of_reviews', 'reviews_per_month',\n",
              "       'calculated_host_listings_count', 'availability_365'],\n",
              "      dtype='object')"
            ]
          },
          "metadata": {},
          "execution_count": 9
        }
      ]
    },
    {
      "cell_type": "markdown",
      "source": [
        "We haven’t missed value anymore."
      ],
      "metadata": {
        "id": "CGcwDDoqsoyg"
      }
    },
    {
      "cell_type": "markdown",
      "source": [
        "Exploration Data and Visualizing\n",
        "\n",
        "Now time to explore our data and visualize it to examine the relationship between the columns data."
      ],
      "metadata": {
        "id": "oaiAY1l2sviB"
      }
    },
    {
      "cell_type": "markdown",
      "source": [
        "Lets start with Scatter Plot to show the neighbourhood group based on Latitude and Longitude."
      ],
      "metadata": {
        "id": "fsUVJr_ryDmk"
      }
    },
    {
      "cell_type": "code",
      "source": [
        "plt.figure(figsize=(10,5))\n",
        "sns.scatterplot(x=df.longitude,y=df.latitude,hue=df.neighbourhood_group)\n"
      ],
      "metadata": {
        "colab": {
          "base_uri": "https://localhost:8080/",
          "height": 351
        },
        "id": "SJ3T7zQix7IG",
        "outputId": "7a9a33b1-fa4e-4694-c1d0-9fdfe2bf8642"
      },
      "execution_count": 14,
      "outputs": [
        {
          "output_type": "execute_result",
          "data": {
            "text/plain": [
              "<matplotlib.axes._subplots.AxesSubplot at 0x7ff770ad4dd0>"
            ]
          },
          "metadata": {},
          "execution_count": 14
        },
        {
          "output_type": "display_data",
          "data": {
            "text/plain": [
              "<Figure size 720x360 with 1 Axes>"
            ],
            "image/png": "[encoded data removed]"
          },
          "metadata": {
            "needs_background": "light"
          }
        }
      ]
    },
    {
      "cell_type": "markdown",
      "source": [
        "**Neighbourhood** **group**"
      ],
      "metadata": {
        "id": "S2D9ZoGvt_Xk"
      }
    },
    {
      "cell_type": "code",
      "source": [
        "neighbour_df = df.groupby('neighbourhood_group')['id'].count()"
      ],
      "metadata": {
        "id": "7EAllFG5skVc"
      },
      "execution_count": 11,
      "outputs": []
    },
    {
      "cell_type": "code",
      "source": [
        "plt.figure(figsize=(10,5))\n",
        "sns.countplot(x='neighbourhood_group',data = df)\n",
        "plt.title('Count of neighbourhood_group')\n",
        "plt.ylabel('frequency')\n",
        "plt.xlabel('neighbourhood_group')\n"
      ],
      "metadata": {
        "colab": {
          "base_uri": "https://localhost:8080/",
          "height": 368
        },
        "id": "Fw0GOkESuGhl",
        "outputId": "e327e429-50ce-4641-beff-12c9b793b4bc"
      },
      "execution_count": 12,
      "outputs": [
        {
          "output_type": "execute_result",
          "data": {
            "text/plain": [
              "Text(0.5, 0, 'neighbourhood_group')"
            ]
          },
          "metadata": {},
          "execution_count": 12
        },
        {
          "output_type": "display_data",
          "data": {
            "text/plain": [
              "<Figure size 720x360 with 1 Axes>"
            ],
            "image/png": "[encoded data removed]"
          },
          "metadata": {
            "needs_background": "light"
          }
        }
      ]
    },
    {
      "cell_type": "markdown",
      "source": [
        "Observations:\n",
        "\n",
        "1.Brooklyn and Manhattan have the highest hotel/room bookings."
      ],
      "metadata": {
        "id": "z3imR3mtvX4n"
      }
    },
    {
      "cell_type": "markdown",
      "source": [
        "Apart from knowing the frquency of rooms availability,we can also explore the average booking prices in these localities"
      ],
      "metadata": {
        "id": "rxMBFDeA7MaL"
      }
    },
    {
      "cell_type": "markdown",
      "source": [
        "**Relation between neighbourhood group and average price**"
      ],
      "metadata": {
        "id": "CsbALTO07i-w"
      }
    },
    {
      "cell_type": "code",
      "source": [
        "avg_priceof_neigh_df = df.groupby(['neighbourhood_group']).agg({'price':'mean'}).reset_index().rename(columns={'price':'average price'})"
      ],
      "metadata": {
        "id": "8a3-gAbc7gW2"
      },
      "execution_count": 16,
      "outputs": []
    },
    {
      "cell_type": "code",
      "source": [
        "plt.figure(figsize=(10,5))\n",
        "sns.barplot(x = 'neighbourhood_group',y = 'average price',data = avg_priceof_neigh_df)\n",
        "plt.title(' Average_price vs Neighbourhood_group')\n",
        "plt.xlabel('neighbourhood_group')\n",
        "plt.ylabel(\"Average_price\")\n"
      ],
      "metadata": {
        "colab": {
          "base_uri": "https://localhost:8080/",
          "height": 368
        },
        "id": "o7VJX3C67dfY",
        "outputId": "f67c32a3-d170-4470-8662-57e624a3c15c"
      },
      "execution_count": 17,
      "outputs": [
        {
          "output_type": "execute_result",
          "data": {
            "text/plain": [
              "Text(0, 0.5, 'Average_price')"
            ]
          },
          "metadata": {},
          "execution_count": 17
        },
        {
          "output_type": "display_data",
          "data": {
            "text/plain": [
              "<Figure size 720x360 with 1 Axes>"
            ],
            "image/png": "[encoded data removed]"
          },
          "metadata": {
            "needs_background": "light"
          }
        }
      ]
    },
    {
      "cell_type": "markdown",
      "source": [
        "1. Manhattan is the area having highest average booking price,followed by Brooklyn.\n",
        "2. Bronx is the area having lowest average booking price."
      ],
      "metadata": {
        "id": "dxgC4cO49kgt"
      }
    },
    {
      "cell_type": "markdown",
      "source": [
        "**Neighbourhood**"
      ],
      "metadata": {
        "id": "ljHyNUZhv4s5"
      }
    },
    {
      "cell_type": "code",
      "source": [
        "neigh_counts_df = df['neighbourhood'].value_counts().reset_index().rename(columns={'index':'neighbourhood','neighbourhood':'counts'})"
      ],
      "metadata": {
        "id": "7ckYAtjTwWll"
      },
      "execution_count": 18,
      "outputs": []
    },
    {
      "cell_type": "code",
      "source": [
        "neigh_counts_df"
      ],
      "metadata": {
        "colab": {
          "base_uri": "https://localhost:8080/",
          "height": 424
        },
        "id": "8TbX6Q6_zwNC",
        "outputId": "a729d2bb-93fc-4521-dd81-321d211e3a1b"
      },
      "execution_count": 19,
      "outputs": [
        {
          "output_type": "execute_result",
          "data": {
            "text/plain": [
              "          neighbourhood  counts\n",
              "0          Williamsburg    3920\n",
              "1    Bedford-Stuyvesant    3714\n",
              "2                Harlem    2658\n",
              "3              Bushwick    2465\n",
              "4       Upper West Side    1971\n",
              "..                  ...     ...\n",
              "216      Fort Wadsworth       1\n",
              "217        Richmondtown       1\n",
              "218            New Dorp       1\n",
              "219           Rossville       1\n",
              "220         Willowbrook       1\n",
              "\n",
              "[221 rows x 2 columns]"
            ],
            "text/html": [
              "\n",
              "  <div id=\"df-8ab7ca4c-89d0-4e8c-93ee-156c6e6c0415\">\n",
              "    <div class=\"colab-df-container\">\n",
              "      <div>\n",
              "<style scoped>\n",
              "    .dataframe tbody tr th:only-of-type {\n",
              "        vertical-align: middle;\n",
              "    }\n",
              "\n",
              "    .dataframe tbody tr th {\n",
              "        vertical-align: top;\n",
              "    }\n",
              "\n",
              "    .dataframe thead th {\n",
              "        text-align: right;\n",
              "    }\n",
              "</style>\n",
              "<table border=\"1\" class=\"dataframe\">\n",
              "  <thead>\n",
              "    <tr style=\"text-align: right;\">\n",
              "      <th></th>\n",
              "      <th>neighbourhood</th>\n",
              "      <th>counts</th>\n",
              "    </tr>\n",
              "  </thead>\n",
              "  <tbody>\n",
              "    <tr>\n",
              "      <th>0</th>\n",
              "      <td>Williamsburg</td>\n",
              "      <td>3920</td>\n",
              "    </tr>\n",
              "    <tr>\n",
              "      <th>1</th>\n",
              "      <td>Bedford-Stuyvesant</td>\n",
              "      <td>3714</td>\n",
              "    </tr>\n",
              "    <tr>\n",
              "      <th>2</th>\n",
              "      <td>Harlem</td>\n",
              "      <td>2658</td>\n",
              "    </tr>\n",
              "    <tr>\n",
              "      <th>3</th>\n",
              "      <td>Bushwick</td>\n",
              "      <td>2465</td>\n",
              "    </tr>\n",
              "    <tr>\n",
              "      <th>4</th>\n",
              "      <td>Upper West Side</td>\n",
              "      <td>1971</td>\n",
              "    </tr>\n",
              "    <tr>\n",
              "      <th>...</th>\n",
              "      <td>...</td>\n",
              "      <td>...</td>\n",
              "    </tr>\n",
              "    <tr>\n",
              "      <th>216</th>\n",
              "      <td>Fort Wadsworth</td>\n",
              "      <td>1</td>\n",
              "    </tr>\n",
              "    <tr>\n",
              "      <th>217</th>\n",
              "      <td>Richmondtown</td>\n",
              "      <td>1</td>\n",
              "    </tr>\n",
              "    <tr>\n",
              "      <th>218</th>\n",
              "      <td>New Dorp</td>\n",
              "      <td>1</td>\n",
              "    </tr>\n",
              "    <tr>\n",
              "      <th>219</th>\n",
              "      <td>Rossville</td>\n",
              "      <td>1</td>\n",
              "    </tr>\n",
              "    <tr>\n",
              "      <th>220</th>\n",
              "      <td>Willowbrook</td>\n",
              "      <td>1</td>\n",
              "    </tr>\n",
              "  </tbody>\n",
              "</table>\n",
              "<p>221 rows × 2 columns</p>\n",
              "</div>\n",
              "      <button class=\"colab-df-convert\" onclick=\"convertToInteractive('df-8ab7ca4c-89d0-4e8c-93ee-156c6e6c0415')\"\n",
              "              title=\"Convert this dataframe to an interactive table.\"\n",
              "              style=\"display:none;\">\n",
              "        \n",
              "  <svg xmlns=\"http://www.w3.org/2000/svg\" height=\"24px\"viewBox=\"0 0 24 24\"\n",
              "       width=\"24px\">\n",
              "    <path d=\"M0 0h24v24H0V0z\" fill=\"none\"/>\n",
              "    <path d=\"M18.56 5.44l.94 2.06.94-2.06 2.06-.94-2.06-.94-.94-2.06-.94 2.06-2.06.94zm-11 1L8.5 8.5l.94-2.06 2.06-.94-2.06-.94L8.5 2.5l-.94 2.06-2.06.94zm10 10l.94 2.06.94-2.06 2.06-.94-2.06-.94-.94-2.06-.94 2.06-2.06.94z\"/><path d=\"M17.41 7.96l-1.37-1.37c-.4-.4-.92-.59-1.43-.59-.52 0-1.04.2-1.43.59L10.3 9.45l-7.72 7.72c-.78.78-.78 2.05 0 2.83L4 21.41c.39.39.9.59 1.41.59.51 0 1.02-.2 1.41-.59l7.78-7.78 2.81-2.81c.8-.78.8-2.07 0-2.86zM5.41 20L4 18.59l7.72-7.72 1.47 1.35L5.41 20z\"/>\n",
              "  </svg>\n",
              "      </button>\n",
              "      \n",
              "  <style>\n",
              "    .colab-df-container {\n",
              "      display:flex;\n",
              "      flex-wrap:wrap;\n",
              "      gap: 12px;\n",
              "    }\n",
              "\n",
              "    .colab-df-convert {\n",
              "      background-color: #E8F0FE;\n",
              "      border: none;\n",
              "      border-radius: 50%;\n",
              "      cursor: pointer;\n",
              "      display: none;\n",
              "      fill: #1967D2;\n",
              "      height: 32px;\n",
              "      padding: 0 0 0 0;\n",
              "      width: 32px;\n",
              "    }\n",
              "\n",
              "    .colab-df-convert:hover {\n",
              "      background-color: #E2EBFA;\n",
              "      box-shadow: 0px 1px 2px rgba(60, 64, 67, 0.3), 0px 1px 3px 1px rgba(60, 64, 67, 0.15);\n",
              "      fill: #174EA6;\n",
              "    }\n",
              "\n",
              "    [theme=dark] .colab-df-convert {\n",
              "      background-color: #3B4455;\n",
              "      fill: #D2E3FC;\n",
              "    }\n",
              "\n",
              "    [theme=dark] .colab-df-convert:hover {\n",
              "      background-color: #434B5C;\n",
              "      box-shadow: 0px 1px 3px 1px rgba(0, 0, 0, 0.15);\n",
              "      filter: drop-shadow(0px 1px 2px rgba(0, 0, 0, 0.3));\n",
              "      fill: #FFFFFF;\n",
              "    }\n",
              "  </style>\n",
              "\n",
              "      <script>\n",
              "        const buttonEl =\n",
              "          document.querySelector('#df-8ab7ca4c-89d0-4e8c-93ee-156c6e6c0415 button.colab-df-convert');\n",
              "        buttonEl.style.display =\n",
              "          google.colab.kernel.accessAllowed ? 'block' : 'none';\n",
              "\n",
              "        async function convertToInteractive(key) {\n",
              "          const element = document.querySelector('#df-8ab7ca4c-89d0-4e8c-93ee-156c6e6c0415');\n",
              "          const dataTable =\n",
              "            await google.colab.kernel.invokeFunction('convertToInteractive',\n",
              "                                                     [key], {});\n",
              "          if (!dataTable) return;\n",
              "\n",
              "          const docLinkHtml = 'Like what you see? Visit the ' +\n",
              "            '<a target=\"_blank\" href=https://colab.research.google.com/notebooks/data_table.ipynb>data table notebook</a>'\n",
              "            + ' to learn more about interactive tables.';\n",
              "          element.innerHTML = '';\n",
              "          dataTable['output_type'] = 'display_data';\n",
              "          await google.colab.output.renderOutput(dataTable, element);\n",
              "          const docLink = document.createElement('div');\n",
              "          docLink.innerHTML = docLinkHtml;\n",
              "          element.appendChild(docLink);\n",
              "        }\n",
              "      </script>\n",
              "    </div>\n",
              "  </div>\n",
              "  "
            ]
          },
          "metadata": {},
          "execution_count": 19
        }
      ]
    },
    {
      "cell_type": "markdown",
      "source": [
        "Observations:\n",
        "\n",
        "1.There are 221 unique neighborhoods."
      ],
      "metadata": {
        "id": "li2XG-MEzAJa"
      }
    },
    {
      "cell_type": "code",
      "source": [
        "top10_neighbourhoods = neigh_counts_df.head(10)"
      ],
      "metadata": {
        "id": "KxFXB0Zbw-SQ"
      },
      "execution_count": 20,
      "outputs": []
    },
    {
      "cell_type": "code",
      "source": [
        "top10_neighbourhoods"
      ],
      "metadata": {
        "colab": {
          "base_uri": "https://localhost:8080/",
          "height": 363
        },
        "id": "jv1ZxjmSySLo",
        "outputId": "d4918155-10c5-4cad-c449-62276a0a61c0"
      },
      "execution_count": 21,
      "outputs": [
        {
          "output_type": "execute_result",
          "data": {
            "text/plain": [
              "        neighbourhood  counts\n",
              "0        Williamsburg    3920\n",
              "1  Bedford-Stuyvesant    3714\n",
              "2              Harlem    2658\n",
              "3            Bushwick    2465\n",
              "4     Upper West Side    1971\n",
              "5      Hell's Kitchen    1958\n",
              "6        East Village    1853\n",
              "7     Upper East Side    1798\n",
              "8       Crown Heights    1564\n",
              "9             Midtown    1545"
            ],
            "text/html": [
              "\n",
              "  <div id=\"df-1fa27e3e-4cc7-4073-a785-2d7eed76e38c\">\n",
              "    <div class=\"colab-df-container\">\n",
              "      <div>\n",
              "<style scoped>\n",
              "    .dataframe tbody tr th:only-of-type {\n",
              "        vertical-align: middle;\n",
              "    }\n",
              "\n",
              "    .dataframe tbody tr th {\n",
              "        vertical-align: top;\n",
              "    }\n",
              "\n",
              "    .dataframe thead th {\n",
              "        text-align: right;\n",
              "    }\n",
              "</style>\n",
              "<table border=\"1\" class=\"dataframe\">\n",
              "  <thead>\n",
              "    <tr style=\"text-align: right;\">\n",
              "      <th></th>\n",
              "      <th>neighbourhood</th>\n",
              "      <th>counts</th>\n",
              "    </tr>\n",
              "  </thead>\n",
              "  <tbody>\n",
              "    <tr>\n",
              "      <th>0</th>\n",
              "      <td>Williamsburg</td>\n",
              "      <td>3920</td>\n",
              "    </tr>\n",
              "    <tr>\n",
              "      <th>1</th>\n",
              "      <td>Bedford-Stuyvesant</td>\n",
              "      <td>3714</td>\n",
              "    </tr>\n",
              "    <tr>\n",
              "      <th>2</th>\n",
              "      <td>Harlem</td>\n",
              "      <td>2658</td>\n",
              "    </tr>\n",
              "    <tr>\n",
              "      <th>3</th>\n",
              "      <td>Bushwick</td>\n",
              "      <td>2465</td>\n",
              "    </tr>\n",
              "    <tr>\n",
              "      <th>4</th>\n",
              "      <td>Upper West Side</td>\n",
              "      <td>1971</td>\n",
              "    </tr>\n",
              "    <tr>\n",
              "      <th>5</th>\n",
              "      <td>Hell's Kitchen</td>\n",
              "      <td>1958</td>\n",
              "    </tr>\n",
              "    <tr>\n",
              "      <th>6</th>\n",
              "      <td>East Village</td>\n",
              "      <td>1853</td>\n",
              "    </tr>\n",
              "    <tr>\n",
              "      <th>7</th>\n",
              "      <td>Upper East Side</td>\n",
              "      <td>1798</td>\n",
              "    </tr>\n",
              "    <tr>\n",
              "      <th>8</th>\n",
              "      <td>Crown Heights</td>\n",
              "      <td>1564</td>\n",
              "    </tr>\n",
              "    <tr>\n",
              "      <th>9</th>\n",
              "      <td>Midtown</td>\n",
              "      <td>1545</td>\n",
              "    </tr>\n",
              "  </tbody>\n",
              "</table>\n",
              "</div>\n",
              "      <button class=\"colab-df-convert\" onclick=\"convertToInteractive('df-1fa27e3e-4cc7-4073-a785-2d7eed76e38c')\"\n",
              "              title=\"Convert this dataframe to an interactive table.\"\n",
              "              style=\"display:none;\">\n",
              "        \n",
              "  <svg xmlns=\"http://www.w3.org/2000/svg\" height=\"24px\"viewBox=\"0 0 24 24\"\n",
              "       width=\"24px\">\n",
              "    <path d=\"M0 0h24v24H0V0z\" fill=\"none\"/>\n",
              "    <path d=\"M18.56 5.44l.94 2.06.94-2.06 2.06-.94-2.06-.94-.94-2.06-.94 2.06-2.06.94zm-11 1L8.5 8.5l.94-2.06 2.06-.94-2.06-.94L8.5 2.5l-.94 2.06-2.06.94zm10 10l.94 2.06.94-2.06 2.06-.94-2.06-.94-.94-2.06-.94 2.06-2.06.94z\"/><path d=\"M17.41 7.96l-1.37-1.37c-.4-.4-.92-.59-1.43-.59-.52 0-1.04.2-1.43.59L10.3 9.45l-7.72 7.72c-.78.78-.78 2.05 0 2.83L4 21.41c.39.39.9.59 1.41.59.51 0 1.02-.2 1.41-.59l7.78-7.78 2.81-2.81c.8-.78.8-2.07 0-2.86zM5.41 20L4 18.59l7.72-7.72 1.47 1.35L5.41 20z\"/>\n",
              "  </svg>\n",
              "      </button>\n",
              "      \n",
              "  <style>\n",
              "    .colab-df-container {\n",
              "      display:flex;\n",
              "      flex-wrap:wrap;\n",
              "      gap: 12px;\n",
              "    }\n",
              "\n",
              "    .colab-df-convert {\n",
              "      background-color: #E8F0FE;\n",
              "      border: none;\n",
              "      border-radius: 50%;\n",
              "      cursor: pointer;\n",
              "      display: none;\n",
              "      fill: #1967D2;\n",
              "      height: 32px;\n",
              "      padding: 0 0 0 0;\n",
              "      width: 32px;\n",
              "    }\n",
              "\n",
              "    .colab-df-convert:hover {\n",
              "      background-color: #E2EBFA;\n",
              "      box-shadow: 0px 1px 2px rgba(60, 64, 67, 0.3), 0px 1px 3px 1px rgba(60, 64, 67, 0.15);\n",
              "      fill: #174EA6;\n",
              "    }\n",
              "\n",
              "    [theme=dark] .colab-df-convert {\n",
              "      background-color: #3B4455;\n",
              "      fill: #D2E3FC;\n",
              "    }\n",
              "\n",
              "    [theme=dark] .colab-df-convert:hover {\n",
              "      background-color: #434B5C;\n",
              "      box-shadow: 0px 1px 3px 1px rgba(0, 0, 0, 0.15);\n",
              "      filter: drop-shadow(0px 1px 2px rgba(0, 0, 0, 0.3));\n",
              "      fill: #FFFFFF;\n",
              "    }\n",
              "  </style>\n",
              "\n",
              "      <script>\n",
              "        const buttonEl =\n",
              "          document.querySelector('#df-1fa27e3e-4cc7-4073-a785-2d7eed76e38c button.colab-df-convert');\n",
              "        buttonEl.style.display =\n",
              "          google.colab.kernel.accessAllowed ? 'block' : 'none';\n",
              "\n",
              "        async function convertToInteractive(key) {\n",
              "          const element = document.querySelector('#df-1fa27e3e-4cc7-4073-a785-2d7eed76e38c');\n",
              "          const dataTable =\n",
              "            await google.colab.kernel.invokeFunction('convertToInteractive',\n",
              "                                                     [key], {});\n",
              "          if (!dataTable) return;\n",
              "\n",
              "          const docLinkHtml = 'Like what you see? Visit the ' +\n",
              "            '<a target=\"_blank\" href=https://colab.research.google.com/notebooks/data_table.ipynb>data table notebook</a>'\n",
              "            + ' to learn more about interactive tables.';\n",
              "          element.innerHTML = '';\n",
              "          dataTable['output_type'] = 'display_data';\n",
              "          await google.colab.output.renderOutput(dataTable, element);\n",
              "          const docLink = document.createElement('div');\n",
              "          docLink.innerHTML = docLinkHtml;\n",
              "          element.appendChild(docLink);\n",
              "        }\n",
              "      </script>\n",
              "    </div>\n",
              "  </div>\n",
              "  "
            ]
          },
          "metadata": {},
          "execution_count": 21
        }
      ]
    },
    {
      "cell_type": "code",
      "source": [
        "plt.figure(figsize=(20,8))\n",
        "sns.barplot(x='neighbourhood',y='counts',data = top10_neighbourhoods)\n",
        "plt.title('Count of Neighbourhood')\n",
        "plt.xlabel('Neighbourhood')\n",
        "plt.ylabel('Count')"
      ],
      "metadata": {
        "colab": {
          "base_uri": "https://localhost:8080/",
          "height": 530
        },
        "id": "HxHmgWxSwlpM",
        "outputId": "6ed7921e-c4cb-4267-d02a-4a9df858650d"
      },
      "execution_count": 22,
      "outputs": [
        {
          "output_type": "execute_result",
          "data": {
            "text/plain": [
              "Text(0, 0.5, 'Count')"
            ]
          },
          "metadata": {},
          "execution_count": 22
        },
        {
          "output_type": "display_data",
          "data": {
            "text/plain": [
              "<Figure size 1440x576 with 1 Axes>"
            ],
            "image/png": "[encoded data removed]"
          },
          "metadata": {
            "needs_background": "light"
          }
        }
      ]
    },
    {
      "cell_type": "markdown",
      "source": [
        "Observations:\n",
        "\n",
        "1.The above plot shows us the top 10  Neighbours towns where  customers were interested to stay.\n"
      ],
      "metadata": {
        "id": "ZpiIwrjUzG46"
      }
    },
    {
      "cell_type": "markdown",
      "source": [
        "**Room Details**"
      ],
      "metadata": {
        "id": "YI0sFO194cvC"
      }
    },
    {
      "cell_type": "code",
      "source": [
        "room_df = df['room_type'].value_counts().reset_index().rename(columns={'index':'Room type','room_type':'count of no of hotels'})"
      ],
      "metadata": {
        "id": "Y0czHUQbx7Iv"
      },
      "execution_count": 23,
      "outputs": []
    },
    {
      "cell_type": "code",
      "source": [
        "room_df"
      ],
      "metadata": {
        "colab": {
          "base_uri": "https://localhost:8080/",
          "height": 143
        },
        "id": "XTLFIkbc403s",
        "outputId": "2803db99-4011-4061-dc77-8e8f4262961e"
      },
      "execution_count": 24,
      "outputs": [
        {
          "output_type": "execute_result",
          "data": {
            "text/plain": [
              "         Room type  count of no of hotels\n",
              "0  Entire home/apt                  25409\n",
              "1     Private room                  22326\n",
              "2      Shared room                   1160"
            ],
            "text/html": [
              "\n",
              "  <div id=\"df-720995df-1566-4171-bd12-01785e12af5c\">\n",
              "    <div class=\"colab-df-container\">\n",
              "      <div>\n",
              "<style scoped>\n",
              "    .dataframe tbody tr th:only-of-type {\n",
              "        vertical-align: middle;\n",
              "    }\n",
              "\n",
              "    .dataframe tbody tr th {\n",
              "        vertical-align: top;\n",
              "    }\n",
              "\n",
              "    .dataframe thead th {\n",
              "        text-align: right;\n",
              "    }\n",
              "</style>\n",
              "<table border=\"1\" class=\"dataframe\">\n",
              "  <thead>\n",
              "    <tr style=\"text-align: right;\">\n",
              "      <th></th>\n",
              "      <th>Room type</th>\n",
              "      <th>count of no of hotels</th>\n",
              "    </tr>\n",
              "  </thead>\n",
              "  <tbody>\n",
              "    <tr>\n",
              "      <th>0</th>\n",
              "      <td>Entire home/apt</td>\n",
              "      <td>25409</td>\n",
              "    </tr>\n",
              "    <tr>\n",
              "      <th>1</th>\n",
              "      <td>Private room</td>\n",
              "      <td>22326</td>\n",
              "    </tr>\n",
              "    <tr>\n",
              "      <th>2</th>\n",
              "      <td>Shared room</td>\n",
              "      <td>1160</td>\n",
              "    </tr>\n",
              "  </tbody>\n",
              "</table>\n",
              "</div>\n",
              "      <button class=\"colab-df-convert\" onclick=\"convertToInteractive('df-720995df-1566-4171-bd12-01785e12af5c')\"\n",
              "              title=\"Convert this dataframe to an interactive table.\"\n",
              "              style=\"display:none;\">\n",
              "        \n",
              "  <svg xmlns=\"http://www.w3.org/2000/svg\" height=\"24px\"viewBox=\"0 0 24 24\"\n",
              "       width=\"24px\">\n",
              "    <path d=\"M0 0h24v24H0V0z\" fill=\"none\"/>\n",
              "    <path d=\"M18.56 5.44l.94 2.06.94-2.06 2.06-.94-2.06-.94-.94-2.06-.94 2.06-2.06.94zm-11 1L8.5 8.5l.94-2.06 2.06-.94-2.06-.94L8.5 2.5l-.94 2.06-2.06.94zm10 10l.94 2.06.94-2.06 2.06-.94-2.06-.94-.94-2.06-.94 2.06-2.06.94z\"/><path d=\"M17.41 7.96l-1.37-1.37c-.4-.4-.92-.59-1.43-.59-.52 0-1.04.2-1.43.59L10.3 9.45l-7.72 7.72c-.78.78-.78 2.05 0 2.83L4 21.41c.39.39.9.59 1.41.59.51 0 1.02-.2 1.41-.59l7.78-7.78 2.81-2.81c.8-.78.8-2.07 0-2.86zM5.41 20L4 18.59l7.72-7.72 1.47 1.35L5.41 20z\"/>\n",
              "  </svg>\n",
              "      </button>\n",
              "      \n",
              "  <style>\n",
              "    .colab-df-container {\n",
              "      display:flex;\n",
              "      flex-wrap:wrap;\n",
              "      gap: 12px;\n",
              "    }\n",
              "\n",
              "    .colab-df-convert {\n",
              "      background-color: #E8F0FE;\n",
              "      border: none;\n",
              "      border-radius: 50%;\n",
              "      cursor: pointer;\n",
              "      display: none;\n",
              "      fill: #1967D2;\n",
              "      height: 32px;\n",
              "      padding: 0 0 0 0;\n",
              "      width: 32px;\n",
              "    }\n",
              "\n",
              "    .colab-df-convert:hover {\n",
              "      background-color: #E2EBFA;\n",
              "      box-shadow: 0px 1px 2px rgba(60, 64, 67, 0.3), 0px 1px 3px 1px rgba(60, 64, 67, 0.15);\n",
              "      fill: #174EA6;\n",
              "    }\n",
              "\n",
              "    [theme=dark] .colab-df-convert {\n",
              "      background-color: #3B4455;\n",
              "      fill: #D2E3FC;\n",
              "    }\n",
              "\n",
              "    [theme=dark] .colab-df-convert:hover {\n",
              "      background-color: #434B5C;\n",
              "      box-shadow: 0px 1px 3px 1px rgba(0, 0, 0, 0.15);\n",
              "      filter: drop-shadow(0px 1px 2px rgba(0, 0, 0, 0.3));\n",
              "      fill: #FFFFFF;\n",
              "    }\n",
              "  </style>\n",
              "\n",
              "      <script>\n",
              "        const buttonEl =\n",
              "          document.querySelector('#df-720995df-1566-4171-bd12-01785e12af5c button.colab-df-convert');\n",
              "        buttonEl.style.display =\n",
              "          google.colab.kernel.accessAllowed ? 'block' : 'none';\n",
              "\n",
              "        async function convertToInteractive(key) {\n",
              "          const element = document.querySelector('#df-720995df-1566-4171-bd12-01785e12af5c');\n",
              "          const dataTable =\n",
              "            await google.colab.kernel.invokeFunction('convertToInteractive',\n",
              "                                                     [key], {});\n",
              "          if (!dataTable) return;\n",
              "\n",
              "          const docLinkHtml = 'Like what you see? Visit the ' +\n",
              "            '<a target=\"_blank\" href=https://colab.research.google.com/notebooks/data_table.ipynb>data table notebook</a>'\n",
              "            + ' to learn more about interactive tables.';\n",
              "          element.innerHTML = '';\n",
              "          dataTable['output_type'] = 'display_data';\n",
              "          await google.colab.output.renderOutput(dataTable, element);\n",
              "          const docLink = document.createElement('div');\n",
              "          docLink.innerHTML = docLinkHtml;\n",
              "          element.appendChild(docLink);\n",
              "        }\n",
              "      </script>\n",
              "    </div>\n",
              "  </div>\n",
              "  "
            ]
          },
          "metadata": {},
          "execution_count": 24
        }
      ]
    },
    {
      "cell_type": "code",
      "source": [
        "plt.figure(figsize=(10,5))\n",
        "sns.barplot(x='Room type',y='count of no of hotels',data =room_df)\n",
        "\n",
        "plt.title('Type of Room')\n",
        "plt.xlabel('Room type')\n",
        "plt.ylabel('Count')"
      ],
      "metadata": {
        "colab": {
          "base_uri": "https://localhost:8080/",
          "height": 367
        },
        "id": "irGnzzhr49LD",
        "outputId": "ae3d8c78-531e-4b06-dc10-b19ecdff0def"
      },
      "execution_count": 25,
      "outputs": [
        {
          "output_type": "execute_result",
          "data": {
            "text/plain": [
              "Text(0, 0.5, 'Count')"
            ]
          },
          "metadata": {},
          "execution_count": 25
        },
        {
          "output_type": "display_data",
          "data": {
            "text/plain": [
              "<Figure size 720x360 with 1 Axes>"
            ],
            "image/png": "[encoded data removed]"
          },
          "metadata": {
            "needs_background": "light"
          }
        }
      ]
    },
    {
      "cell_type": "markdown",
      "source": [
        "1. Majority of customers were interested in booking entire home/apt.\n",
        "2. As expected very few customers were interested in sharing room type."
      ],
      "metadata": {
        "id": "IVtLtS3x9zy-"
      }
    },
    {
      "cell_type": "markdown",
      "source": [
        "**We can further analyse the room types occupied by a neighborhood group**"
      ],
      "metadata": {
        "id": "KX0FrHdj-QmC"
      }
    },
    {
      "cell_type": "code",
      "source": [
        "plt.figure(figsize=(13,7))\n",
        "plt.title(\"Room Type on Neighbourhood Group\")\n",
        "sns.countplot(df.neighbourhood_group,hue= df.room_type)"
      ],
      "metadata": {
        "colab": {
          "base_uri": "https://localhost:8080/",
          "height": 531
        },
        "id": "cyLC_ZMh5i-n",
        "outputId": "aa3675a5-b5c6-4823-e8c7-098d636261a9"
      },
      "execution_count": 26,
      "outputs": [
        {
          "output_type": "stream",
          "name": "stderr",
          "text": [
            "/usr/local/lib/python3.7/dist-packages/seaborn/_decorators.py:43: FutureWarning: Pass the following variable as a keyword arg: x. From version 0.12, the only valid positional argument will be `data`, and passing other arguments without an explicit keyword will result in an error or misinterpretation.\n",
            "  FutureWarning\n"
          ]
        },
        {
          "output_type": "execute_result",
          "data": {
            "text/plain": [
              "<matplotlib.axes._subplots.AxesSubplot at 0x7ff76e9af690>"
            ]
          },
          "metadata": {},
          "execution_count": 26
        },
        {
          "output_type": "display_data",
          "data": {
            "text/plain": [
              "<Figure size 936x504 with 1 Axes>"
            ],
            "image/png": "[encoded data removed]"
          },
          "metadata": {
            "needs_background": "light"
          }
        }
      ]
    },
    {
      "cell_type": "markdown",
      "source": [
        "Now its time to analyse the price variations of these room types"
      ],
      "metadata": {
        "id": "aS7JbqlEAjoW"
      }
    },
    {
      "cell_type": "code",
      "source": [
        "plt.figure(figsize = (15,5))\n",
        "sns.barplot(x= 'room_type',y= 'price', data=df)\n",
        "plt.title('Price vs Room Type')\n",
        "plt.xlabel('Room Type')\n",
        "plt.ylabel(\"Price\")\n"
      ],
      "metadata": {
        "colab": {
          "base_uri": "https://localhost:8080/",
          "height": 367
        },
        "id": "GgtfzL-K_TCJ",
        "outputId": "7187c310-9648-466f-d5d1-c08914cd25bf"
      },
      "execution_count": 27,
      "outputs": [
        {
          "output_type": "execute_result",
          "data": {
            "text/plain": [
              "Text(0, 0.5, 'Price')"
            ]
          },
          "metadata": {},
          "execution_count": 27
        },
        {
          "output_type": "display_data",
          "data": {
            "text/plain": [
              "<Figure size 1080x360 with 1 Axes>"
            ],
            "image/png": "[encoded data removed]"
          },
          "metadata": {
            "needs_background": "light"
          }
        }
      ]
    },
    {
      "cell_type": "markdown",
      "source": [
        "Despite being costlier than other room types 'Entire home/apt', majority of customers were interested to choose this."
      ],
      "metadata": {
        "id": "3Z_KnruOBTcF"
      }
    },
    {
      "cell_type": "markdown",
      "source": [
        "**Now to get even more understanding of how price is varrying in neighbourhood for various room types lets create and analyse the dataset.**"
      ],
      "metadata": {
        "id": "DsrBhCSJCOIW"
      }
    },
    {
      "cell_type": "code",
      "source": [
        "neigh_room_df_unstacked_table = pd.pivot_table(( df.groupby(['neighbourhood','room_type']).agg({'price':'sum'})), values='price', index=['neighbourhood'], columns=['room_type'])"
      ],
      "metadata": {
        "id": "a7pnR2W2DvrO"
      },
      "execution_count": 28,
      "outputs": []
    },
    {
      "cell_type": "markdown",
      "source": [
        "In the above code line we had done the groupby operation on two columns by the variable price column and we unstacked the data for proper visualalization."
      ],
      "metadata": {
        "id": "nxfoStIJFV6K"
      }
    },
    {
      "cell_type": "code",
      "source": [
        "neigh_room_df_unstacked_table.head()"
      ],
      "metadata": {
        "colab": {
          "base_uri": "https://localhost:8080/",
          "height": 238
        },
        "id": "lVr1mJL5CsSR",
        "outputId": "83be106c-c1cc-4173-f47e-04276e5154b6"
      },
      "execution_count": 29,
      "outputs": [
        {
          "output_type": "execute_result",
          "data": {
            "text/plain": [
              "room_type      Entire home/apt  Private room  Shared room\n",
              "neighbourhood                                            \n",
              "Allerton                1969.0        1710.0          NaN\n",
              "Arden Heights            228.0          41.0          NaN\n",
              "Arrochar                1897.0         518.0          NaN\n",
              "Arverne                10782.0        2369.0         76.0\n",
              "Astoria                54178.0       47512.0       3779.0"
            ],
            "text/html": [
              "\n",
              "  <div id=\"df-3b4c00f7-7e46-49d7-9568-ca22456b1c25\">\n",
              "    <div class=\"colab-df-container\">\n",
              "      <div>\n",
              "<style scoped>\n",
              "    .dataframe tbody tr th:only-of-type {\n",
              "        vertical-align: middle;\n",
              "    }\n",
              "\n",
              "    .dataframe tbody tr th {\n",
              "        vertical-align: top;\n",
              "    }\n",
              "\n",
              "    .dataframe thead th {\n",
              "        text-align: right;\n",
              "    }\n",
              "</style>\n",
              "<table border=\"1\" class=\"dataframe\">\n",
              "  <thead>\n",
              "    <tr style=\"text-align: right;\">\n",
              "      <th>room_type</th>\n",
              "      <th>Entire home/apt</th>\n",
              "      <th>Private room</th>\n",
              "      <th>Shared room</th>\n",
              "    </tr>\n",
              "    <tr>\n",
              "      <th>neighbourhood</th>\n",
              "      <th></th>\n",
              "      <th></th>\n",
              "      <th></th>\n",
              "    </tr>\n",
              "  </thead>\n",
              "  <tbody>\n",
              "    <tr>\n",
              "      <th>Allerton</th>\n",
              "      <td>1969.0</td>\n",
              "      <td>1710.0</td>\n",
              "      <td>NaN</td>\n",
              "    </tr>\n",
              "    <tr>\n",
              "      <th>Arden Heights</th>\n",
              "      <td>228.0</td>\n",
              "      <td>41.0</td>\n",
              "      <td>NaN</td>\n",
              "    </tr>\n",
              "    <tr>\n",
              "      <th>Arrochar</th>\n",
              "      <td>1897.0</td>\n",
              "      <td>518.0</td>\n",
              "      <td>NaN</td>\n",
              "    </tr>\n",
              "    <tr>\n",
              "      <th>Arverne</th>\n",
              "      <td>10782.0</td>\n",
              "      <td>2369.0</td>\n",
              "      <td>76.0</td>\n",
              "    </tr>\n",
              "    <tr>\n",
              "      <th>Astoria</th>\n",
              "      <td>54178.0</td>\n",
              "      <td>47512.0</td>\n",
              "      <td>3779.0</td>\n",
              "    </tr>\n",
              "  </tbody>\n",
              "</table>\n",
              "</div>\n",
              "      <button class=\"colab-df-convert\" onclick=\"convertToInteractive('df-3b4c00f7-7e46-49d7-9568-ca22456b1c25')\"\n",
              "              title=\"Convert this dataframe to an interactive table.\"\n",
              "              style=\"display:none;\">\n",
              "        \n",
              "  <svg xmlns=\"http://www.w3.org/2000/svg\" height=\"24px\"viewBox=\"0 0 24 24\"\n",
              "       width=\"24px\">\n",
              "    <path d=\"M0 0h24v24H0V0z\" fill=\"none\"/>\n",
              "    <path d=\"M18.56 5.44l.94 2.06.94-2.06 2.06-.94-2.06-.94-.94-2.06-.94 2.06-2.06.94zm-11 1L8.5 8.5l.94-2.06 2.06-.94-2.06-.94L8.5 2.5l-.94 2.06-2.06.94zm10 10l.94 2.06.94-2.06 2.06-.94-2.06-.94-.94-2.06-.94 2.06-2.06.94z\"/><path d=\"M17.41 7.96l-1.37-1.37c-.4-.4-.92-.59-1.43-.59-.52 0-1.04.2-1.43.59L10.3 9.45l-7.72 7.72c-.78.78-.78 2.05 0 2.83L4 21.41c.39.39.9.59 1.41.59.51 0 1.02-.2 1.41-.59l7.78-7.78 2.81-2.81c.8-.78.8-2.07 0-2.86zM5.41 20L4 18.59l7.72-7.72 1.47 1.35L5.41 20z\"/>\n",
              "  </svg>\n",
              "      </button>\n",
              "      \n",
              "  <style>\n",
              "    .colab-df-container {\n",
              "      display:flex;\n",
              "      flex-wrap:wrap;\n",
              "      gap: 12px;\n",
              "    }\n",
              "\n",
              "    .colab-df-convert {\n",
              "      background-color: #E8F0FE;\n",
              "      border: none;\n",
              "      border-radius: 50%;\n",
              "      cursor: pointer;\n",
              "      display: none;\n",
              "      fill: #1967D2;\n",
              "      height: 32px;\n",
              "      padding: 0 0 0 0;\n",
              "      width: 32px;\n",
              "    }\n",
              "\n",
              "    .colab-df-convert:hover {\n",
              "      background-color: #E2EBFA;\n",
              "      box-shadow: 0px 1px 2px rgba(60, 64, 67, 0.3), 0px 1px 3px 1px rgba(60, 64, 67, 0.15);\n",
              "      fill: #174EA6;\n",
              "    }\n",
              "\n",
              "    [theme=dark] .colab-df-convert {\n",
              "      background-color: #3B4455;\n",
              "      fill: #D2E3FC;\n",
              "    }\n",
              "\n",
              "    [theme=dark] .colab-df-convert:hover {\n",
              "      background-color: #434B5C;\n",
              "      box-shadow: 0px 1px 3px 1px rgba(0, 0, 0, 0.15);\n",
              "      filter: drop-shadow(0px 1px 2px rgba(0, 0, 0, 0.3));\n",
              "      fill: #FFFFFF;\n",
              "    }\n",
              "  </style>\n",
              "\n",
              "      <script>\n",
              "        const buttonEl =\n",
              "          document.querySelector('#df-3b4c00f7-7e46-49d7-9568-ca22456b1c25 button.colab-df-convert');\n",
              "        buttonEl.style.display =\n",
              "          google.colab.kernel.accessAllowed ? 'block' : 'none';\n",
              "\n",
              "        async function convertToInteractive(key) {\n",
              "          const element = document.querySelector('#df-3b4c00f7-7e46-49d7-9568-ca22456b1c25');\n",
              "          const dataTable =\n",
              "            await google.colab.kernel.invokeFunction('convertToInteractive',\n",
              "                                                     [key], {});\n",
              "          if (!dataTable) return;\n",
              "\n",
              "          const docLinkHtml = 'Like what you see? Visit the ' +\n",
              "            '<a target=\"_blank\" href=https://colab.research.google.com/notebooks/data_table.ipynb>data table notebook</a>'\n",
              "            + ' to learn more about interactive tables.';\n",
              "          element.innerHTML = '';\n",
              "          dataTable['output_type'] = 'display_data';\n",
              "          await google.colab.output.renderOutput(dataTable, element);\n",
              "          const docLink = document.createElement('div');\n",
              "          docLink.innerHTML = docLinkHtml;\n",
              "          element.appendChild(docLink);\n",
              "        }\n",
              "      </script>\n",
              "    </div>\n",
              "  </div>\n",
              "  "
            ]
          },
          "metadata": {},
          "execution_count": 29
        }
      ]
    },
    {
      "cell_type": "markdown",
      "source": [
        "Now its time to find the maximum and minimum revenue genrated by each room type in the neighbours."
      ],
      "metadata": {
        "id": "_N3SdkRFFtUA"
      }
    },
    {
      "cell_type": "code",
      "source": [
        "x = neigh_room_df_unstacked_table.sort_values('Entire home/apt',ascending=False).head(1)\n",
        "y = neigh_room_df_unstacked_table.sort_values('Entire home/apt',ascending=True).head(1)\n",
        "a = neigh_room_df_unstacked_table.sort_values('Private room',ascending=False).head(1)\n",
        "b = neigh_room_df_unstacked_table.sort_values('Private room',ascending=True).head(1)\n",
        "c = neigh_room_df_unstacked_table.sort_values('Shared room',ascending=False).head(1)\n",
        "d = neigh_room_df_unstacked_table.sort_values('Shared room',ascending=True).head(1)"
      ],
      "metadata": {
        "id": "s7kot2zPGiWF"
      },
      "execution_count": 30,
      "outputs": []
    },
    {
      "cell_type": "code",
      "source": [
        "print(f'the maximum revenue generated by Entire home/apt is \\n {x}' )\n",
        "print('------------------------------------------------------------------')\n",
        "print(f'the minimum revenue generated by Entire home/apt is \\n {y}' )\n",
        "\n",
        "print('\\n*************************************************************************\\n')\n",
        "\n",
        "print(f'the maximum revenue generated by private room is \\n {a}' )\n",
        "print('------------------------------------------------------------------')\n",
        "print(f'the minimum revenue generated by private room  is \\n {b}' )\n",
        "\n",
        "print('\\n*************************************************************************\\n')\n",
        "\n",
        "print(f'the maximum revenue generated by Shared room is \\n {c}' )\n",
        "print('------------------------------------------------------------------')\n",
        "print(f'the minimum revenue generated by Shared room  is \\n {d}' )"
      ],
      "metadata": {
        "id": "kkTo451MCuPQ",
        "colab": {
          "base_uri": "https://localhost:8080/"
        },
        "outputId": "36b9b400-a50e-4441-a496-f2d0ccd32128"
      },
      "execution_count": 31,
      "outputs": [
        {
          "output_type": "stream",
          "name": "stdout",
          "text": [
            "the maximum revenue generated by Entire home/apt is \n",
            " room_type      Entire home/apt  Private room  Shared room\n",
            "neighbourhood                                            \n",
            "Williamsburg          389724.0      171265.0       2718.0\n",
            "------------------------------------------------------------------\n",
            "the minimum revenue generated by Entire home/apt is \n",
            " room_type      Entire home/apt  Private room  Shared room\n",
            "neighbourhood                                            \n",
            "New Dorp                  57.0           NaN          NaN\n",
            "\n",
            "*************************************************************************\n",
            "\n",
            "the maximum revenue generated by private room is \n",
            " room_type      Entire home/apt  Private room  Shared room\n",
            "neighbourhood                                            \n",
            "Williamsburg          389724.0      171265.0       2718.0\n",
            "------------------------------------------------------------------\n",
            "the minimum revenue generated by private room  is \n",
            " room_type      Entire home/apt  Private room  Shared room\n",
            "neighbourhood                                            \n",
            "Graniteville             186.0          20.0          NaN\n",
            "\n",
            "*************************************************************************\n",
            "\n",
            "the maximum revenue generated by Shared room is \n",
            " room_type       Entire home/apt  Private room  Shared room\n",
            "neighbourhood                                             \n",
            "Hell's Kitchen         301786.0       89713.0       9488.0\n",
            "------------------------------------------------------------------\n",
            "the minimum revenue generated by Shared room  is \n",
            " room_type      Entire home/apt  Private room  Shared room\n",
            "neighbourhood                                            \n",
            "Randall Manor           5859.0         512.0         13.0\n"
          ]
        }
      ]
    },
    {
      "cell_type": "markdown",
      "source": [
        "So from the above outputs, the neighbourhood **'Williamsburg'** has generated highest revenue for Entire home/apt and Private room types.\n",
        "The reason behind this may be the presence of tourist places near this neighbourhood\n",
        "\n"
      ],
      "metadata": {
        "id": "HBbhlHCANOWQ"
      }
    },
    {
      "cell_type": "markdown",
      "source": [
        "# **Lets find out which type of rooms are mostly available through out the year**"
      ],
      "metadata": {
        "id": "qFJIffAZo0xV"
      }
    },
    {
      "cell_type": "code",
      "source": [
        "availability_365 =df.groupby(['room_type'])['availability_365'].count().reset_index()"
      ],
      "metadata": {
        "id": "Br6vVz-iGYbm"
      },
      "execution_count": 32,
      "outputs": []
    },
    {
      "cell_type": "code",
      "source": [
        "\n",
        "plt.figure(figsize = (15,5))\n",
        "sns.barplot(x= 'room_type',y= 'availability_365', data=availability_365)\n",
        "plt.title('total availability of rooms in a year')\n",
        "plt.xlabel('Room Type')\n",
        "plt.ylabel(\"availability of rooms in a year\")"
      ],
      "metadata": {
        "colab": {
          "base_uri": "https://localhost:8080/",
          "height": 367
        },
        "id": "tCv7kmJUmvdQ",
        "outputId": "0cfde2c5-ed05-4fca-d89c-6b0bceed5f93"
      },
      "execution_count": 33,
      "outputs": [
        {
          "output_type": "execute_result",
          "data": {
            "text/plain": [
              "Text(0, 0.5, 'availability of rooms in a year')"
            ]
          },
          "metadata": {},
          "execution_count": 33
        },
        {
          "output_type": "display_data",
          "data": {
            "text/plain": [
              "<Figure size 1080x360 with 1 Axes>"
            ],
            "image/png": "[encoded data removed]"
          },
          "metadata": {
            "needs_background": "light"
          }
        }
      ]
    },
    {
      "cell_type": "markdown",
      "source": [
        "Till now i assumed that customers were preferring entire home/apt over shared rooms because of their personal interest but the fact from the above analysis shows the availability of rooms throught the year.\n",
        "As we can interpret that the shared rooms are less available comapred to the remaining two room types."
      ],
      "metadata": {
        "id": "YHOkORkKpOYx"
      }
    },
    {
      "cell_type": "markdown",
      "source": [
        "# **Lets group the rooms by their price**"
      ],
      "metadata": {
        "id": "qq7MQiTDqqZX"
      }
    },
    {
      "cell_type": "markdown",
      "source": [
        "lets create column to classfity the properties listed on airbnb using price cl=olumn"
      ],
      "metadata": {
        "id": "KmGQTP-NrIjr"
      }
    },
    {
      "cell_type": "code",
      "source": [
        "def price_category(price):\n",
        "  if price<=100:\n",
        "    return 'cheap'\n",
        "  elif price>=100 and price<=500:\n",
        "    return '3 star hotel'\n",
        "  else:\n",
        "    return '5 star hotel'\n",
        "\n",
        "df['property_type'] = df['price'].apply(lambda x :price_category(x))"
      ],
      "metadata": {
        "id": "7mP2Me4HnU_Y"
      },
      "execution_count": 34,
      "outputs": []
    },
    {
      "cell_type": "markdown",
      "source": [
        "Now group by the property type column based on the minimum nights spent in that property.\n",
        "\n",
        "By doing this we get to know which price range properties are frequently booked."
      ],
      "metadata": {
        "id": "WlBjTiEp7jD_"
      }
    },
    {
      "cell_type": "code",
      "source": [
        "most_booked_room_df = df.groupby(['property_type'])['minimum_nights'].sum().reset_index().rename(columns={'minimum_nights':'total_no_of_nights_spent'})"
      ],
      "metadata": {
        "id": "x4WbZAJv7iIo"
      },
      "execution_count": 35,
      "outputs": []
    },
    {
      "cell_type": "code",
      "source": [
        "most_booked_room_df"
      ],
      "metadata": {
        "colab": {
          "base_uri": "https://localhost:8080/",
          "height": 143
        },
        "id": "Mru2LnDU9zoN",
        "outputId": "64501d17-3a51-4850-9ba7-16c520289629"
      },
      "execution_count": 36,
      "outputs": [
        {
          "output_type": "execute_result",
          "data": {
            "text/plain": [
              "  property_type  total_no_of_nights_spent\n",
              "0  3 star hotel                    184934\n",
              "1  5 star hotel                      9656\n",
              "2         cheap                    149140"
            ],
            "text/html": [
              "\n",
              "  <div id=\"df-c00b57b0-76d8-432f-946a-1504056f68ff\">\n",
              "    <div class=\"colab-df-container\">\n",
              "      <div>\n",
              "<style scoped>\n",
              "    .dataframe tbody tr th:only-of-type {\n",
              "        vertical-align: middle;\n",
              "    }\n",
              "\n",
              "    .dataframe tbody tr th {\n",
              "        vertical-align: top;\n",
              "    }\n",
              "\n",
              "    .dataframe thead th {\n",
              "        text-align: right;\n",
              "    }\n",
              "</style>\n",
              "<table border=\"1\" class=\"dataframe\">\n",
              "  <thead>\n",
              "    <tr style=\"text-align: right;\">\n",
              "      <th></th>\n",
              "      <th>property_type</th>\n",
              "      <th>total_no_of_nights_spent</th>\n",
              "    </tr>\n",
              "  </thead>\n",
              "  <tbody>\n",
              "    <tr>\n",
              "      <th>0</th>\n",
              "      <td>3 star hotel</td>\n",
              "      <td>184934</td>\n",
              "    </tr>\n",
              "    <tr>\n",
              "      <th>1</th>\n",
              "      <td>5 star hotel</td>\n",
              "      <td>9656</td>\n",
              "    </tr>\n",
              "    <tr>\n",
              "      <th>2</th>\n",
              "      <td>cheap</td>\n",
              "      <td>149140</td>\n",
              "    </tr>\n",
              "  </tbody>\n",
              "</table>\n",
              "</div>\n",
              "      <button class=\"colab-df-convert\" onclick=\"convertToInteractive('df-c00b57b0-76d8-432f-946a-1504056f68ff')\"\n",
              "              title=\"Convert this dataframe to an interactive table.\"\n",
              "              style=\"display:none;\">\n",
              "        \n",
              "  <svg xmlns=\"http://www.w3.org/2000/svg\" height=\"24px\"viewBox=\"0 0 24 24\"\n",
              "       width=\"24px\">\n",
              "    <path d=\"M0 0h24v24H0V0z\" fill=\"none\"/>\n",
              "    <path d=\"M18.56 5.44l.94 2.06.94-2.06 2.06-.94-2.06-.94-.94-2.06-.94 2.06-2.06.94zm-11 1L8.5 8.5l.94-2.06 2.06-.94-2.06-.94L8.5 2.5l-.94 2.06-2.06.94zm10 10l.94 2.06.94-2.06 2.06-.94-2.06-.94-.94-2.06-.94 2.06-2.06.94z\"/><path d=\"M17.41 7.96l-1.37-1.37c-.4-.4-.92-.59-1.43-.59-.52 0-1.04.2-1.43.59L10.3 9.45l-7.72 7.72c-.78.78-.78 2.05 0 2.83L4 21.41c.39.39.9.59 1.41.59.51 0 1.02-.2 1.41-.59l7.78-7.78 2.81-2.81c.8-.78.8-2.07 0-2.86zM5.41 20L4 18.59l7.72-7.72 1.47 1.35L5.41 20z\"/>\n",
              "  </svg>\n",
              "      </button>\n",
              "      \n",
              "  <style>\n",
              "    .colab-df-container {\n",
              "      display:flex;\n",
              "      flex-wrap:wrap;\n",
              "      gap: 12px;\n",
              "    }\n",
              "\n",
              "    .colab-df-convert {\n",
              "      background-color: #E8F0FE;\n",
              "      border: none;\n",
              "      border-radius: 50%;\n",
              "      cursor: pointer;\n",
              "      display: none;\n",
              "      fill: #1967D2;\n",
              "      height: 32px;\n",
              "      padding: 0 0 0 0;\n",
              "      width: 32px;\n",
              "    }\n",
              "\n",
              "    .colab-df-convert:hover {\n",
              "      background-color: #E2EBFA;\n",
              "      box-shadow: 0px 1px 2px rgba(60, 64, 67, 0.3), 0px 1px 3px 1px rgba(60, 64, 67, 0.15);\n",
              "      fill: #174EA6;\n",
              "    }\n",
              "\n",
              "    [theme=dark] .colab-df-convert {\n",
              "      background-color: #3B4455;\n",
              "      fill: #D2E3FC;\n",
              "    }\n",
              "\n",
              "    [theme=dark] .colab-df-convert:hover {\n",
              "      background-color: #434B5C;\n",
              "      box-shadow: 0px 1px 3px 1px rgba(0, 0, 0, 0.15);\n",
              "      filter: drop-shadow(0px 1px 2px rgba(0, 0, 0, 0.3));\n",
              "      fill: #FFFFFF;\n",
              "    }\n",
              "  </style>\n",
              "\n",
              "      <script>\n",
              "        const buttonEl =\n",
              "          document.querySelector('#df-c00b57b0-76d8-432f-946a-1504056f68ff button.colab-df-convert');\n",
              "        buttonEl.style.display =\n",
              "          google.colab.kernel.accessAllowed ? 'block' : 'none';\n",
              "\n",
              "        async function convertToInteractive(key) {\n",
              "          const element = document.querySelector('#df-c00b57b0-76d8-432f-946a-1504056f68ff');\n",
              "          const dataTable =\n",
              "            await google.colab.kernel.invokeFunction('convertToInteractive',\n",
              "                                                     [key], {});\n",
              "          if (!dataTable) return;\n",
              "\n",
              "          const docLinkHtml = 'Like what you see? Visit the ' +\n",
              "            '<a target=\"_blank\" href=https://colab.research.google.com/notebooks/data_table.ipynb>data table notebook</a>'\n",
              "            + ' to learn more about interactive tables.';\n",
              "          element.innerHTML = '';\n",
              "          dataTable['output_type'] = 'display_data';\n",
              "          await google.colab.output.renderOutput(dataTable, element);\n",
              "          const docLink = document.createElement('div');\n",
              "          docLink.innerHTML = docLinkHtml;\n",
              "          element.appendChild(docLink);\n",
              "        }\n",
              "      </script>\n",
              "    </div>\n",
              "  </div>\n",
              "  "
            ]
          },
          "metadata": {},
          "execution_count": 36
        }
      ]
    },
    {
      "cell_type": "code",
      "source": [
        "plt.figure(figsize=(10,5))\n",
        "sns.barplot(x=most_booked_room_df['property_type'], y =most_booked_room_df['total_no_of_nights_spent'],data =most_booked_room_df)\n",
        "plt.title('Property type vs total nights spent')\n"
      ],
      "metadata": {
        "colab": {
          "base_uri": "https://localhost:8080/",
          "height": 367
        },
        "id": "FDI0yMHFrdL7",
        "outputId": "cfbbfaea-fd7d-4423-b27c-a8cc1814df8d"
      },
      "execution_count": 37,
      "outputs": [
        {
          "output_type": "execute_result",
          "data": {
            "text/plain": [
              "Text(0.5, 1.0, 'Property type vs total nights spent')"
            ]
          },
          "metadata": {},
          "execution_count": 37
        },
        {
          "output_type": "display_data",
          "data": {
            "text/plain": [
              "<Figure size 720x360 with 1 Axes>"
            ],
            "image/png": "[encoded data removed]"
          },
          "metadata": {
            "needs_background": "light"
          }
        }
      ]
    },
    {
      "cell_type": "markdown",
      "source": [
        "3 star hotels has most demand in the NYC area when compared to other two room types"
      ],
      "metadata": {
        "id": "3RI_Sk-1CQCa"
      }
    },
    {
      "cell_type": "markdown",
      "source": [
        "# **Lets get the names of top 5 propeties, based on their reviews count**"
      ],
      "metadata": {
        "id": "1OMeU4fD01Vi"
      }
    },
    {
      "cell_type": "markdown",
      "source": [
        "Based on the review score(Minimum 50) we will plot, who is our top 5 Host, this increases the confidence of tourist before booking."
      ],
      "metadata": {
        "id": "o4gjZZMt1T4b"
      }
    },
    {
      "cell_type": "code",
      "source": [
        "reviews_grt50 = df[df['number_of_reviews']>=50]\n",
        "\n",
        "top5_df = reviews_grt50.groupby(['host_id'])['number_of_reviews'].sum().sort_values(ascending = False).reset_index()[:5]"
      ],
      "metadata": {
        "id": "eXwA559u00uz"
      },
      "execution_count": 91,
      "outputs": []
    },
    {
      "cell_type": "code",
      "source": [
        "plt.figure(figsize=(10,8))\n",
        "sns.barplot(x=top5_df['host_id'],y=top5_df['number_of_reviews'],data = top5_df)\n"
      ],
      "metadata": {
        "colab": {
          "base_uri": "https://localhost:8080/",
          "height": 554
        },
        "id": "Acmj8Tiu58Wr",
        "outputId": "59074e4f-81e4-41f7-c6f8-9c43d693b37d"
      },
      "execution_count": 92,
      "outputs": [
        {
          "output_type": "execute_result",
          "data": {
            "text/plain": [
              "<matplotlib.axes._subplots.AxesSubplot at 0x7ff76b89fd50>"
            ]
          },
          "metadata": {},
          "execution_count": 92
        },
        {
          "output_type": "display_data",
          "data": {
            "text/plain": [
              "<Figure size 720x576 with 1 Axes>"
            ],
            "image/png": "[encoded data removed]"
          },
          "metadata": {}
        }
      ]
    },
    {
      "cell_type": "markdown",
      "source": [
        "Review is the one of the important criteria with online activity these days. This gives a lot of insights to a particular place for tourist and they can swing mood when it comes to online booking.So far the host with host id has 37312959 has more number reviews.\n",
        "\n",
        "One thing we cannot conclude here is whether the reviwes are positive or negative."
      ],
      "metadata": {
        "id": "g-RXFPvF6DZc"
      }
    },
    {
      "cell_type": "markdown",
      "source": [
        "#**Lets jump into the insights of daily bookings of room types throughout the year**"
      ],
      "metadata": {
        "id": "0KSr2xJCCb9L"
      }
    },
    {
      "cell_type": "code",
      "source": [
        "df.groupby(['room_type','availability_365']).agg({'minimum_nights':'sum'}).unstack()"
      ],
      "metadata": {
        "colab": {
          "base_uri": "https://localhost:8080/",
          "height": 236
        },
        "id": "rwWM4rUorgor",
        "outputId": "735f462b-6b7e-4ebc-d018-758f7c830e73"
      },
      "execution_count": 38,
      "outputs": [
        {
          "output_type": "execute_result",
          "data": {
            "text/plain": [
              "                 minimum_nights                                              \\\n",
              "availability_365            0       1      2       3      4      5      6     \n",
              "room_type                                                                     \n",
              "Entire home/apt         44975.0  1621.0  968.0  1078.0  837.0  875.0  603.0   \n",
              "Private room            35793.0  1089.0  371.0   343.0  243.0  494.0  317.0   \n",
              "Shared room              1445.0    14.0    4.0     5.0    8.0   13.0   64.0   \n",
              "\n",
              "                                       ...                               \\\n",
              "availability_365    7      8      9    ...    356    357     358    359   \n",
              "room_type                              ...                                \n",
              "Entire home/apt   765.0  652.0  560.0  ...  206.0  529.0  1409.0  211.0   \n",
              "Private room      346.0  310.0  173.0  ...  196.0  298.0  1560.0  283.0   \n",
              "Shared room        35.0    2.0    4.0  ...    2.0   34.0    41.0    7.0   \n",
              "\n",
              "                                                                 \n",
              "availability_365    360    361     362     363     364      365  \n",
              "room_type                                                        \n",
              "Entire home/apt   240.0  141.0  2663.0  1844.0  5485.0  16861.0  \n",
              "Private room      235.0  488.0   410.0   768.0  1833.0   6414.0  \n",
              "Shared room        38.0   15.0    20.0    28.0    77.0   2107.0  \n",
              "\n",
              "[3 rows x 366 columns]"
            ],
            "text/html": [
              "\n",
              "  <div id=\"df-66b5925b-ccc4-4b0b-be45-b2c1abd8c7a3\">\n",
              "    <div class=\"colab-df-container\">\n",
              "      <div>\n",
              "<style scoped>\n",
              "    .dataframe tbody tr th:only-of-type {\n",
              "        vertical-align: middle;\n",
              "    }\n",
              "\n",
              "    .dataframe tbody tr th {\n",
              "        vertical-align: top;\n",
              "    }\n",
              "\n",
              "    .dataframe thead tr th {\n",
              "        text-align: left;\n",
              "    }\n",
              "\n",
              "    .dataframe thead tr:last-of-type th {\n",
              "        text-align: right;\n",
              "    }\n",
              "</style>\n",
              "<table border=\"1\" class=\"dataframe\">\n",
              "  <thead>\n",
              "    <tr>\n",
              "      <th></th>\n",
              "      <th colspan=\"21\" halign=\"left\">minimum_nights</th>\n",
              "    </tr>\n",
              "    <tr>\n",
              "      <th>availability_365</th>\n",
              "      <th>0</th>\n",
              "      <th>1</th>\n",
              "      <th>2</th>\n",
              "      <th>3</th>\n",
              "      <th>4</th>\n",
              "      <th>5</th>\n",
              "      <th>6</th>\n",
              "      <th>7</th>\n",
              "      <th>8</th>\n",
              "      <th>9</th>\n",
              "      <th>...</th>\n",
              "      <th>356</th>\n",
              "      <th>357</th>\n",
              "      <th>358</th>\n",
              "      <th>359</th>\n",
              "      <th>360</th>\n",
              "      <th>361</th>\n",
              "      <th>362</th>\n",
              "      <th>363</th>\n",
              "      <th>364</th>\n",
              "      <th>365</th>\n",
              "    </tr>\n",
              "    <tr>\n",
              "      <th>room_type</th>\n",
              "      <th></th>\n",
              "      <th></th>\n",
              "      <th></th>\n",
              "      <th></th>\n",
              "      <th></th>\n",
              "      <th></th>\n",
              "      <th></th>\n",
              "      <th></th>\n",
              "      <th></th>\n",
              "      <th></th>\n",
              "      <th></th>\n",
              "      <th></th>\n",
              "      <th></th>\n",
              "      <th></th>\n",
              "      <th></th>\n",
              "      <th></th>\n",
              "      <th></th>\n",
              "      <th></th>\n",
              "      <th></th>\n",
              "      <th></th>\n",
              "      <th></th>\n",
              "    </tr>\n",
              "  </thead>\n",
              "  <tbody>\n",
              "    <tr>\n",
              "      <th>Entire home/apt</th>\n",
              "      <td>44975.0</td>\n",
              "      <td>1621.0</td>\n",
              "      <td>968.0</td>\n",
              "      <td>1078.0</td>\n",
              "      <td>837.0</td>\n",
              "      <td>875.0</td>\n",
              "      <td>603.0</td>\n",
              "      <td>765.0</td>\n",
              "      <td>652.0</td>\n",
              "      <td>560.0</td>\n",
              "      <td>...</td>\n",
              "      <td>206.0</td>\n",
              "      <td>529.0</td>\n",
              "      <td>1409.0</td>\n",
              "      <td>211.0</td>\n",
              "      <td>240.0</td>\n",
              "      <td>141.0</td>\n",
              "      <td>2663.0</td>\n",
              "      <td>1844.0</td>\n",
              "      <td>5485.0</td>\n",
              "      <td>16861.0</td>\n",
              "    </tr>\n",
              "    <tr>\n",
              "      <th>Private room</th>\n",
              "      <td>35793.0</td>\n",
              "      <td>1089.0</td>\n",
              "      <td>371.0</td>\n",
              "      <td>343.0</td>\n",
              "      <td>243.0</td>\n",
              "      <td>494.0</td>\n",
              "      <td>317.0</td>\n",
              "      <td>346.0</td>\n",
              "      <td>310.0</td>\n",
              "      <td>173.0</td>\n",
              "      <td>...</td>\n",
              "      <td>196.0</td>\n",
              "      <td>298.0</td>\n",
              "      <td>1560.0</td>\n",
              "      <td>283.0</td>\n",
              "      <td>235.0</td>\n",
              "      <td>488.0</td>\n",
              "      <td>410.0</td>\n",
              "      <td>768.0</td>\n",
              "      <td>1833.0</td>\n",
              "      <td>6414.0</td>\n",
              "    </tr>\n",
              "    <tr>\n",
              "      <th>Shared room</th>\n",
              "      <td>1445.0</td>\n",
              "      <td>14.0</td>\n",
              "      <td>4.0</td>\n",
              "      <td>5.0</td>\n",
              "      <td>8.0</td>\n",
              "      <td>13.0</td>\n",
              "      <td>64.0</td>\n",
              "      <td>35.0</td>\n",
              "      <td>2.0</td>\n",
              "      <td>4.0</td>\n",
              "      <td>...</td>\n",
              "      <td>2.0</td>\n",
              "      <td>34.0</td>\n",
              "      <td>41.0</td>\n",
              "      <td>7.0</td>\n",
              "      <td>38.0</td>\n",
              "      <td>15.0</td>\n",
              "      <td>20.0</td>\n",
              "      <td>28.0</td>\n",
              "      <td>77.0</td>\n",
              "      <td>2107.0</td>\n",
              "    </tr>\n",
              "  </tbody>\n",
              "</table>\n",
              "<p>3 rows × 366 columns</p>\n",
              "</div>\n",
              "      <button class=\"colab-df-convert\" onclick=\"convertToInteractive('df-66b5925b-ccc4-4b0b-be45-b2c1abd8c7a3')\"\n",
              "              title=\"Convert this dataframe to an interactive table.\"\n",
              "              style=\"display:none;\">\n",
              "        \n",
              "  <svg xmlns=\"http://www.w3.org/2000/svg\" height=\"24px\"viewBox=\"0 0 24 24\"\n",
              "       width=\"24px\">\n",
              "    <path d=\"M0 0h24v24H0V0z\" fill=\"none\"/>\n",
              "    <path d=\"M18.56 5.44l.94 2.06.94-2.06 2.06-.94-2.06-.94-.94-2.06-.94 2.06-2.06.94zm-11 1L8.5 8.5l.94-2.06 2.06-.94-2.06-.94L8.5 2.5l-.94 2.06-2.06.94zm10 10l.94 2.06.94-2.06 2.06-.94-2.06-.94-.94-2.06-.94 2.06-2.06.94z\"/><path d=\"M17.41 7.96l-1.37-1.37c-.4-.4-.92-.59-1.43-.59-.52 0-1.04.2-1.43.59L10.3 9.45l-7.72 7.72c-.78.78-.78 2.05 0 2.83L4 21.41c.39.39.9.59 1.41.59.51 0 1.02-.2 1.41-.59l7.78-7.78 2.81-2.81c.8-.78.8-2.07 0-2.86zM5.41 20L4 18.59l7.72-7.72 1.47 1.35L5.41 20z\"/>\n",
              "  </svg>\n",
              "      </button>\n",
              "      \n",
              "  <style>\n",
              "    .colab-df-container {\n",
              "      display:flex;\n",
              "      flex-wrap:wrap;\n",
              "      gap: 12px;\n",
              "    }\n",
              "\n",
              "    .colab-df-convert {\n",
              "      background-color: #E8F0FE;\n",
              "      border: none;\n",
              "      border-radius: 50%;\n",
              "      cursor: pointer;\n",
              "      display: none;\n",
              "      fill: #1967D2;\n",
              "      height: 32px;\n",
              "      padding: 0 0 0 0;\n",
              "      width: 32px;\n",
              "    }\n",
              "\n",
              "    .colab-df-convert:hover {\n",
              "      background-color: #E2EBFA;\n",
              "      box-shadow: 0px 1px 2px rgba(60, 64, 67, 0.3), 0px 1px 3px 1px rgba(60, 64, 67, 0.15);\n",
              "      fill: #174EA6;\n",
              "    }\n",
              "\n",
              "    [theme=dark] .colab-df-convert {\n",
              "      background-color: #3B4455;\n",
              "      fill: #D2E3FC;\n",
              "    }\n",
              "\n",
              "    [theme=dark] .colab-df-convert:hover {\n",
              "      background-color: #434B5C;\n",
              "      box-shadow: 0px 1px 3px 1px rgba(0, 0, 0, 0.15);\n",
              "      filter: drop-shadow(0px 1px 2px rgba(0, 0, 0, 0.3));\n",
              "      fill: #FFFFFF;\n",
              "    }\n",
              "  </style>\n",
              "\n",
              "      <script>\n",
              "        const buttonEl =\n",
              "          document.querySelector('#df-66b5925b-ccc4-4b0b-be45-b2c1abd8c7a3 button.colab-df-convert');\n",
              "        buttonEl.style.display =\n",
              "          google.colab.kernel.accessAllowed ? 'block' : 'none';\n",
              "\n",
              "        async function convertToInteractive(key) {\n",
              "          const element = document.querySelector('#df-66b5925b-ccc4-4b0b-be45-b2c1abd8c7a3');\n",
              "          const dataTable =\n",
              "            await google.colab.kernel.invokeFunction('convertToInteractive',\n",
              "                                                     [key], {});\n",
              "          if (!dataTable) return;\n",
              "\n",
              "          const docLinkHtml = 'Like what you see? Visit the ' +\n",
              "            '<a target=\"_blank\" href=https://colab.research.google.com/notebooks/data_table.ipynb>data table notebook</a>'\n",
              "            + ' to learn more about interactive tables.';\n",
              "          element.innerHTML = '';\n",
              "          dataTable['output_type'] = 'display_data';\n",
              "          await google.colab.output.renderOutput(dataTable, element);\n",
              "          const docLink = document.createElement('div');\n",
              "          docLink.innerHTML = docLinkHtml;\n",
              "          element.appendChild(docLink);\n",
              "        }\n",
              "      </script>\n",
              "    </div>\n",
              "  </div>\n",
              "  "
            ]
          },
          "metadata": {},
          "execution_count": 38
        }
      ]
    },
    {
      "cell_type": "markdown",
      "source": [
        "As we can see from the above data frame that irrespective of room types the zero night bookings are highest "
      ],
      "metadata": {
        "id": "yAK9RvU-C7xs"
      }
    },
    {
      "cell_type": "code",
      "source": [
        "df.groupby(['room_type'])['price'].describe()"
      ],
      "metadata": {
        "colab": {
          "base_uri": "https://localhost:8080/",
          "height": 175
        },
        "id": "Fpn-qE_Y-PI-",
        "outputId": "7d3c5a1a-33f7-4846-ed0c-5600ffd813e0"
      },
      "execution_count": 39,
      "outputs": [
        {
          "output_type": "execute_result",
          "data": {
            "text/plain": [
              "                   count        mean         std  min    25%    50%    75%  \\\n",
              "room_type                                                                    \n",
              "Entire home/apt  25409.0  211.794246  284.041611  0.0  120.0  160.0  229.0   \n",
              "Private room     22326.0   89.780973  160.205262  0.0   50.0   70.0   95.0   \n",
              "Shared room       1160.0   70.127586  101.725252  0.0   33.0   45.0   75.0   \n",
              "\n",
              "                     max  \n",
              "room_type                 \n",
              "Entire home/apt  10000.0  \n",
              "Private room     10000.0  \n",
              "Shared room       1800.0  "
            ],
            "text/html": [
              "\n",
              "  <div id=\"df-f6bee5f6-d494-4b53-b089-0df678dac7f3\">\n",
              "    <div class=\"colab-df-container\">\n",
              "      <div>\n",
              "<style scoped>\n",
              "    .dataframe tbody tr th:only-of-type {\n",
              "        vertical-align: middle;\n",
              "    }\n",
              "\n",
              "    .dataframe tbody tr th {\n",
              "        vertical-align: top;\n",
              "    }\n",
              "\n",
              "    .dataframe thead th {\n",
              "        text-align: right;\n",
              "    }\n",
              "</style>\n",
              "<table border=\"1\" class=\"dataframe\">\n",
              "  <thead>\n",
              "    <tr style=\"text-align: right;\">\n",
              "      <th></th>\n",
              "      <th>count</th>\n",
              "      <th>mean</th>\n",
              "      <th>std</th>\n",
              "      <th>min</th>\n",
              "      <th>25%</th>\n",
              "      <th>50%</th>\n",
              "      <th>75%</th>\n",
              "      <th>max</th>\n",
              "    </tr>\n",
              "    <tr>\n",
              "      <th>room_type</th>\n",
              "      <th></th>\n",
              "      <th></th>\n",
              "      <th></th>\n",
              "      <th></th>\n",
              "      <th></th>\n",
              "      <th></th>\n",
              "      <th></th>\n",
              "      <th></th>\n",
              "    </tr>\n",
              "  </thead>\n",
              "  <tbody>\n",
              "    <tr>\n",
              "      <th>Entire home/apt</th>\n",
              "      <td>25409.0</td>\n",
              "      <td>211.794246</td>\n",
              "      <td>284.041611</td>\n",
              "      <td>0.0</td>\n",
              "      <td>120.0</td>\n",
              "      <td>160.0</td>\n",
              "      <td>229.0</td>\n",
              "      <td>10000.0</td>\n",
              "    </tr>\n",
              "    <tr>\n",
              "      <th>Private room</th>\n",
              "      <td>22326.0</td>\n",
              "      <td>89.780973</td>\n",
              "      <td>160.205262</td>\n",
              "      <td>0.0</td>\n",
              "      <td>50.0</td>\n",
              "      <td>70.0</td>\n",
              "      <td>95.0</td>\n",
              "      <td>10000.0</td>\n",
              "    </tr>\n",
              "    <tr>\n",
              "      <th>Shared room</th>\n",
              "      <td>1160.0</td>\n",
              "      <td>70.127586</td>\n",
              "      <td>101.725252</td>\n",
              "      <td>0.0</td>\n",
              "      <td>33.0</td>\n",
              "      <td>45.0</td>\n",
              "      <td>75.0</td>\n",
              "      <td>1800.0</td>\n",
              "    </tr>\n",
              "  </tbody>\n",
              "</table>\n",
              "</div>\n",
              "      <button class=\"colab-df-convert\" onclick=\"convertToInteractive('df-f6bee5f6-d494-4b53-b089-0df678dac7f3')\"\n",
              "              title=\"Convert this dataframe to an interactive table.\"\n",
              "              style=\"display:none;\">\n",
              "        \n",
              "  <svg xmlns=\"http://www.w3.org/2000/svg\" height=\"24px\"viewBox=\"0 0 24 24\"\n",
              "       width=\"24px\">\n",
              "    <path d=\"M0 0h24v24H0V0z\" fill=\"none\"/>\n",
              "    <path d=\"M18.56 5.44l.94 2.06.94-2.06 2.06-.94-2.06-.94-.94-2.06-.94 2.06-2.06.94zm-11 1L8.5 8.5l.94-2.06 2.06-.94-2.06-.94L8.5 2.5l-.94 2.06-2.06.94zm10 10l.94 2.06.94-2.06 2.06-.94-2.06-.94-.94-2.06-.94 2.06-2.06.94z\"/><path d=\"M17.41 7.96l-1.37-1.37c-.4-.4-.92-.59-1.43-.59-.52 0-1.04.2-1.43.59L10.3 9.45l-7.72 7.72c-.78.78-.78 2.05 0 2.83L4 21.41c.39.39.9.59 1.41.59.51 0 1.02-.2 1.41-.59l7.78-7.78 2.81-2.81c.8-.78.8-2.07 0-2.86zM5.41 20L4 18.59l7.72-7.72 1.47 1.35L5.41 20z\"/>\n",
              "  </svg>\n",
              "      </button>\n",
              "      \n",
              "  <style>\n",
              "    .colab-df-container {\n",
              "      display:flex;\n",
              "      flex-wrap:wrap;\n",
              "      gap: 12px;\n",
              "    }\n",
              "\n",
              "    .colab-df-convert {\n",
              "      background-color: #E8F0FE;\n",
              "      border: none;\n",
              "      border-radius: 50%;\n",
              "      cursor: pointer;\n",
              "      display: none;\n",
              "      fill: #1967D2;\n",
              "      height: 32px;\n",
              "      padding: 0 0 0 0;\n",
              "      width: 32px;\n",
              "    }\n",
              "\n",
              "    .colab-df-convert:hover {\n",
              "      background-color: #E2EBFA;\n",
              "      box-shadow: 0px 1px 2px rgba(60, 64, 67, 0.3), 0px 1px 3px 1px rgba(60, 64, 67, 0.15);\n",
              "      fill: #174EA6;\n",
              "    }\n",
              "\n",
              "    [theme=dark] .colab-df-convert {\n",
              "      background-color: #3B4455;\n",
              "      fill: #D2E3FC;\n",
              "    }\n",
              "\n",
              "    [theme=dark] .colab-df-convert:hover {\n",
              "      background-color: #434B5C;\n",
              "      box-shadow: 0px 1px 3px 1px rgba(0, 0, 0, 0.15);\n",
              "      filter: drop-shadow(0px 1px 2px rgba(0, 0, 0, 0.3));\n",
              "      fill: #FFFFFF;\n",
              "    }\n",
              "  </style>\n",
              "\n",
              "      <script>\n",
              "        const buttonEl =\n",
              "          document.querySelector('#df-f6bee5f6-d494-4b53-b089-0df678dac7f3 button.colab-df-convert');\n",
              "        buttonEl.style.display =\n",
              "          google.colab.kernel.accessAllowed ? 'block' : 'none';\n",
              "\n",
              "        async function convertToInteractive(key) {\n",
              "          const element = document.querySelector('#df-f6bee5f6-d494-4b53-b089-0df678dac7f3');\n",
              "          const dataTable =\n",
              "            await google.colab.kernel.invokeFunction('convertToInteractive',\n",
              "                                                     [key], {});\n",
              "          if (!dataTable) return;\n",
              "\n",
              "          const docLinkHtml = 'Like what you see? Visit the ' +\n",
              "            '<a target=\"_blank\" href=https://colab.research.google.com/notebooks/data_table.ipynb>data table notebook</a>'\n",
              "            + ' to learn more about interactive tables.';\n",
              "          element.innerHTML = '';\n",
              "          dataTable['output_type'] = 'display_data';\n",
              "          await google.colab.output.renderOutput(dataTable, element);\n",
              "          const docLink = document.createElement('div');\n",
              "          docLink.innerHTML = docLinkHtml;\n",
              "          element.appendChild(docLink);\n",
              "        }\n",
              "      </script>\n",
              "    </div>\n",
              "  </div>\n",
              "  "
            ]
          },
          "metadata": {},
          "execution_count": 39
        }
      ]
    },
    {
      "cell_type": "markdown",
      "source": [
        "From above table we can see the maximum price of a hotel is 10000$,where as its  75% value is around 230$.\n",
        "\n",
        "So for better visualisation,we consider only those rows whose price is less than 2000$."
      ],
      "metadata": {
        "id": "8K0r4RNr7iZ2"
      }
    },
    {
      "cell_type": "code",
      "source": [
        "plt.figure(figsize=(20,10))\n",
        "plt.style.use('fivethirtyeight')\n",
        "df_new =  df[df['price']<2000]\n",
        "sns.boxplot(y= 'price',x= 'neighbourhood_group',data=df_new)"
      ],
      "metadata": {
        "colab": {
          "base_uri": "https://localhost:8080/",
          "height": 631
        },
        "id": "BdnFy-fSA0Gm",
        "outputId": "02eb113a-6a2e-4625-925a-a0cf85a5f260"
      },
      "execution_count": 40,
      "outputs": [
        {
          "output_type": "execute_result",
          "data": {
            "text/plain": [
              "<matplotlib.axes._subplots.AxesSubplot at 0x7ff76e881710>"
            ]
          },
          "metadata": {},
          "execution_count": 40
        },
        {
          "output_type": "display_data",
          "data": {
            "text/plain": [
              "<Figure size 1440x720 with 1 Axes>"
            ],
            "image/png": "[encoded data removed]"
          },
          "metadata": {
            "needs_background": "light"
          }
        }
      ]
    },
    {
      "cell_type": "markdown",
      "source": [
        "The above box plot signifies that neighbourhood 'Manhattan' has maximum prices,followed by 'Brooklyn'."
      ],
      "metadata": {
        "id": "1xyyqNFT8Bba"
      }
    },
    {
      "cell_type": "markdown",
      "source": [
        "Lets look into the hosts who has multiple properties(more than 50) and compare with remainig hosts."
      ],
      "metadata": {
        "id": "H1EE_McyiWOL"
      }
    },
    {
      "cell_type": "code",
      "source": [
        "no_of_properties_df1 = df[(df['calculated_host_listings_count']>=50)]"
      ],
      "metadata": {
        "id": "rVh8D8AKghU8"
      },
      "execution_count": 41,
      "outputs": []
    },
    {
      "cell_type": "code",
      "source": [
        "no_of_properties_df1['calculated_host_listings_count'].sort_values(ascending = False).value_counts().reset_index()\n",
        "x = no_of_properties_df1['host_id'].value_counts().idxmax()\n",
        "y = no_of_properties_df1['calculated_host_listings_count'].value_counts().idxmax()"
      ],
      "metadata": {
        "id": "6mCCgpOahlbt"
      },
      "execution_count": 42,
      "outputs": []
    },
    {
      "cell_type": "code",
      "source": [
        "print(f'The maximum no of properties are held by the host with host id as {x} \\nThe total no of properties are {y}')"
      ],
      "metadata": {
        "colab": {
          "base_uri": "https://localhost:8080/"
        },
        "id": "8EMw6gBoj4VI",
        "outputId": "ca00246f-b9fc-422c-d72a-04fcaa64cc6e"
      },
      "execution_count": 43,
      "outputs": [
        {
          "output_type": "stream",
          "name": "stdout",
          "text": [
            "The maximum no of properties are held by the host with host id as 219517861 \n",
            "The total no of properties are 327\n"
          ]
        }
      ]
    },
    {
      "cell_type": "markdown",
      "source": [
        "Lets compare the average prices set by the hosts who have more than 50 properties with rest of them."
      ],
      "metadata": {
        "id": "6otSKAcBl85e"
      }
    },
    {
      "cell_type": "markdown",
      "source": [
        "Before begining our analysis we need to separate the data sets.\n",
        "\n",
        "Here we are comparing the hosts with no of properties greater than 50 with the avg stay of customers in their properties."
      ],
      "metadata": {
        "id": "Xp5qU-yN5GZt"
      }
    },
    {
      "cell_type": "code",
      "source": [
        "minimum_nights_of_top_hosts_grt50 =no_of_properties_df1.groupby('room_type')['minimum_nights'].mean().reset_index().rename(columns={'room_type':'room_type_grt50','minimum_nights':'minimum_nights_grt50'}).round(0)\n",
        "minimum_nights_of_top_hosts_grt50['minimum_nights_grt50'] = minimum_nights_of_top_hosts_grt50['minimum_nights_grt50'].astype(int)"
      ],
      "metadata": {
        "id": "gtR0af1clHLS"
      },
      "execution_count": 44,
      "outputs": []
    },
    {
      "cell_type": "markdown",
      "source": [
        "The above line of code represets the creation of data set with hosts who have properties greater than 50 and calculating the mean of minimum no of stays in their properties"
      ],
      "metadata": {
        "id": "j2rw2AoU6_9w"
      }
    },
    {
      "cell_type": "code",
      "source": [
        "minimum_nights_of_rest =  df[(df['calculated_host_listings_count']<50)].groupby('room_type')['minimum_nights'].mean().reset_index().rename(columns={'room_type':'room_type_rest','minimum_nights':'minimum_nights_rest'}).round(0)\n",
        "minimum_nights_of_rest['minimum_nights_rest']= minimum_nights_of_rest['minimum_nights_rest'].astype(int)"
      ],
      "metadata": {
        "id": "BpD8x1Myr10J"
      },
      "execution_count": 45,
      "outputs": []
    },
    {
      "cell_type": "markdown",
      "source": [
        "The above line of code represets the creation of data set with hosts who have properties less than 50 and calculating the mean of minimum no of stays in their properties"
      ],
      "metadata": {
        "id": "osYy4wGN7UQs"
      }
    },
    {
      "cell_type": "code",
      "source": [
        "list_ =[minimum_nights_of_top_hosts_grt50,minimum_nights_of_rest ]\n",
        "min_nights_df = pd.concat(list_,axis=1)\n",
        "min_nights_df.drop(2,inplace = True)"
      ],
      "metadata": {
        "id": "-08G9Folm8GI"
      },
      "execution_count": 46,
      "outputs": []
    },
    {
      "cell_type": "markdown",
      "source": [
        "Concatinating the two data sets and dropping the values which are null"
      ],
      "metadata": {
        "id": "yLoaKsZc7YaY"
      }
    },
    {
      "cell_type": "code",
      "source": [
        "min_nights_df"
      ],
      "metadata": {
        "colab": {
          "base_uri": "https://localhost:8080/",
          "height": 112
        },
        "id": "0S6OX_v3selT",
        "outputId": "c153c6e2-eae8-4ae8-d590-32ce3d8e9998"
      },
      "execution_count": 47,
      "outputs": [
        {
          "output_type": "execute_result",
          "data": {
            "text/plain": [
              "   room_type_grt50  minimum_nights_grt50   room_type_rest  minimum_nights_rest\n",
              "0  Entire home/apt                  27.0  Entire home/apt                    8\n",
              "1     Private room                  28.0     Private room                    5"
            ],
            "text/html": [
              "\n",
              "  <div id=\"df-b6fb9cfa-0359-4587-bd56-b2d65e217189\">\n",
              "    <div class=\"colab-df-container\">\n",
              "      <div>\n",
              "<style scoped>\n",
              "    .dataframe tbody tr th:only-of-type {\n",
              "        vertical-align: middle;\n",
              "    }\n",
              "\n",
              "    .dataframe tbody tr th {\n",
              "        vertical-align: top;\n",
              "    }\n",
              "\n",
              "    .dataframe thead th {\n",
              "        text-align: right;\n",
              "    }\n",
              "</style>\n",
              "<table border=\"1\" class=\"dataframe\">\n",
              "  <thead>\n",
              "    <tr style=\"text-align: right;\">\n",
              "      <th></th>\n",
              "      <th>room_type_grt50</th>\n",
              "      <th>minimum_nights_grt50</th>\n",
              "      <th>room_type_rest</th>\n",
              "      <th>minimum_nights_rest</th>\n",
              "    </tr>\n",
              "  </thead>\n",
              "  <tbody>\n",
              "    <tr>\n",
              "      <th>0</th>\n",
              "      <td>Entire home/apt</td>\n",
              "      <td>27.0</td>\n",
              "      <td>Entire home/apt</td>\n",
              "      <td>8</td>\n",
              "    </tr>\n",
              "    <tr>\n",
              "      <th>1</th>\n",
              "      <td>Private room</td>\n",
              "      <td>28.0</td>\n",
              "      <td>Private room</td>\n",
              "      <td>5</td>\n",
              "    </tr>\n",
              "  </tbody>\n",
              "</table>\n",
              "</div>\n",
              "      <button class=\"colab-df-convert\" onclick=\"convertToInteractive('df-b6fb9cfa-0359-4587-bd56-b2d65e217189')\"\n",
              "              title=\"Convert this dataframe to an interactive table.\"\n",
              "              style=\"display:none;\">\n",
              "        \n",
              "  <svg xmlns=\"http://www.w3.org/2000/svg\" height=\"24px\"viewBox=\"0 0 24 24\"\n",
              "       width=\"24px\">\n",
              "    <path d=\"M0 0h24v24H0V0z\" fill=\"none\"/>\n",
              "    <path d=\"M18.56 5.44l.94 2.06.94-2.06 2.06-.94-2.06-.94-.94-2.06-.94 2.06-2.06.94zm-11 1L8.5 8.5l.94-2.06 2.06-.94-2.06-.94L8.5 2.5l-.94 2.06-2.06.94zm10 10l.94 2.06.94-2.06 2.06-.94-2.06-.94-.94-2.06-.94 2.06-2.06.94z\"/><path d=\"M17.41 7.96l-1.37-1.37c-.4-.4-.92-.59-1.43-.59-.52 0-1.04.2-1.43.59L10.3 9.45l-7.72 7.72c-.78.78-.78 2.05 0 2.83L4 21.41c.39.39.9.59 1.41.59.51 0 1.02-.2 1.41-.59l7.78-7.78 2.81-2.81c.8-.78.8-2.07 0-2.86zM5.41 20L4 18.59l7.72-7.72 1.47 1.35L5.41 20z\"/>\n",
              "  </svg>\n",
              "      </button>\n",
              "      \n",
              "  <style>\n",
              "    .colab-df-container {\n",
              "      display:flex;\n",
              "      flex-wrap:wrap;\n",
              "      gap: 12px;\n",
              "    }\n",
              "\n",
              "    .colab-df-convert {\n",
              "      background-color: #E8F0FE;\n",
              "      border: none;\n",
              "      border-radius: 50%;\n",
              "      cursor: pointer;\n",
              "      display: none;\n",
              "      fill: #1967D2;\n",
              "      height: 32px;\n",
              "      padding: 0 0 0 0;\n",
              "      width: 32px;\n",
              "    }\n",
              "\n",
              "    .colab-df-convert:hover {\n",
              "      background-color: #E2EBFA;\n",
              "      box-shadow: 0px 1px 2px rgba(60, 64, 67, 0.3), 0px 1px 3px 1px rgba(60, 64, 67, 0.15);\n",
              "      fill: #174EA6;\n",
              "    }\n",
              "\n",
              "    [theme=dark] .colab-df-convert {\n",
              "      background-color: #3B4455;\n",
              "      fill: #D2E3FC;\n",
              "    }\n",
              "\n",
              "    [theme=dark] .colab-df-convert:hover {\n",
              "      background-color: #434B5C;\n",
              "      box-shadow: 0px 1px 3px 1px rgba(0, 0, 0, 0.15);\n",
              "      filter: drop-shadow(0px 1px 2px rgba(0, 0, 0, 0.3));\n",
              "      fill: #FFFFFF;\n",
              "    }\n",
              "  </style>\n",
              "\n",
              "      <script>\n",
              "        const buttonEl =\n",
              "          document.querySelector('#df-b6fb9cfa-0359-4587-bd56-b2d65e217189 button.colab-df-convert');\n",
              "        buttonEl.style.display =\n",
              "          google.colab.kernel.accessAllowed ? 'block' : 'none';\n",
              "\n",
              "        async function convertToInteractive(key) {\n",
              "          const element = document.querySelector('#df-b6fb9cfa-0359-4587-bd56-b2d65e217189');\n",
              "          const dataTable =\n",
              "            await google.colab.kernel.invokeFunction('convertToInteractive',\n",
              "                                                     [key], {});\n",
              "          if (!dataTable) return;\n",
              "\n",
              "          const docLinkHtml = 'Like what you see? Visit the ' +\n",
              "            '<a target=\"_blank\" href=https://colab.research.google.com/notebooks/data_table.ipynb>data table notebook</a>'\n",
              "            + ' to learn more about interactive tables.';\n",
              "          element.innerHTML = '';\n",
              "          dataTable['output_type'] = 'display_data';\n",
              "          await google.colab.output.renderOutput(dataTable, element);\n",
              "          const docLink = document.createElement('div');\n",
              "          docLink.innerHTML = docLinkHtml;\n",
              "          element.appendChild(docLink);\n",
              "        }\n",
              "      </script>\n",
              "    </div>\n",
              "  </div>\n",
              "  "
            ]
          },
          "metadata": {},
          "execution_count": 47
        }
      ]
    },
    {
      "cell_type": "code",
      "source": [
        "plt.figure(figsize = (10,5))\n",
        "room_type_list = min_nights_df['room_type_grt50'].tolist()\n",
        "minimum_nights_grt50 = min_nights_df['minimum_nights_grt50'].tolist()\n",
        "minimum_nights_rest = min_nights_df['minimum_nights_rest'].tolist()\n",
        "bar1 = [1,2]\n",
        "bar2 = [i+0.2 for  i in bar1]\n",
        "plt.bar(bar1,minimum_nights_grt50,0.2,label = 'minimum_nights_grt50')\n",
        "plt.bar(bar2,minimum_nights_rest,0.2,label = 'minimum_nights_rest')\n",
        "plt.title('compare the average prices set by the hosts who have more than 50 properties with rest of them.')\n",
        "plt.xticks(bar1,room_type_list)\n",
        "plt.xlabel('Room type')\n",
        "plt.ylabel('Average of minimum no of stays')\n",
        "plt.legend()"
      ],
      "metadata": {
        "colab": {
          "base_uri": "https://localhost:8080/",
          "height": 400
        },
        "id": "LxWjjO9Qtt_9",
        "outputId": "1ee709e9-aab9-4d47-a675-09b71861fc87"
      },
      "execution_count": 48,
      "outputs": [
        {
          "output_type": "execute_result",
          "data": {
            "text/plain": [
              "<matplotlib.legend.Legend at 0x7ff76ead4890>"
            ]
          },
          "metadata": {},
          "execution_count": 48
        },
        {
          "output_type": "display_data",
          "data": {
            "text/plain": [
              "<Figure size 720x360 with 1 Axes>"
            ],
            "image/png": "[encoded data removed]"
          },
          "metadata": {}
        }
      ]
    },
    {
      "cell_type": "markdown",
      "source": [
        "The reason to do this analysis was to find atleast one factor why the hosts with grater than 50 properties are able to expand their business.\n",
        "\n",
        "So one of the factor might be the minimum no of nights the customers are staying at their properties is way larger in comparision to rest.\n",
        "\n",
        "They might be providing  their customers with large varitey of complimentary facilities  which will eventually forces the customer to stay there."
      ],
      "metadata": {
        "id": "NoDRbXOz3xP6"
      }
    },
    {
      "cell_type": "code",
      "source": [
        ""
      ],
      "metadata": {
        "id": "31-jt-kXzlGa"
      },
      "execution_count": null,
      "outputs": []
    }
  ]
}